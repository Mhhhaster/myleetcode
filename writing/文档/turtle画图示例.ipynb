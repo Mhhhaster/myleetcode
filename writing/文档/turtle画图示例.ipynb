{
 "cells": [
  {
   "cell_type": "code",
   "execution_count": 1,
   "id": "632f74d5",
   "metadata": {},
   "outputs": [],
   "source": [
    "import turtle"
   ]
  },
  {
   "cell_type": "code",
   "execution_count": 2,
   "id": "a96c15a2",
   "metadata": {},
   "outputs": [],
   "source": [
    "turtle.forward(15)"
   ]
  },
  {
   "cell_type": "code",
   "execution_count": 3,
   "id": "e5b4f4b5",
   "metadata": {},
   "outputs": [
    {
     "data": {
      "text/plain": [
       "(15.00,0.00)"
      ]
     },
     "execution_count": 3,
     "metadata": {},
     "output_type": "execute_result"
    }
   ],
   "source": [
    "turtle.position()"
   ]
  },
  {
   "cell_type": "code",
   "execution_count": 4,
   "id": "6be2c88f",
   "metadata": {},
   "outputs": [],
   "source": [
    "turtle.right(90)"
   ]
  },
  {
   "cell_type": "code",
   "execution_count": 5,
   "id": "b567e068",
   "metadata": {},
   "outputs": [
    {
     "data": {
      "text/plain": [
       "(15.00,-15.00)"
      ]
     },
     "execution_count": 5,
     "metadata": {},
     "output_type": "execute_result"
    }
   ],
   "source": [
    "turtle.forward(15)\n",
    "turtle.position()"
   ]
  },
  {
   "cell_type": "code",
   "execution_count": 6,
   "id": "b6642ce5",
   "metadata": {},
   "outputs": [
    {
     "data": {
      "text/plain": [
       "(15.00,-30.00)"
      ]
     },
     "execution_count": 6,
     "metadata": {},
     "output_type": "execute_result"
    }
   ],
   "source": [
    "turtle.forward(15)\n",
    "turtle.position()"
   ]
  },
  {
   "cell_type": "code",
   "execution_count": 8,
   "id": "6a51a712",
   "metadata": {},
   "outputs": [],
   "source": [
    "turtle.reset()"
   ]
  },
  {
   "cell_type": "code",
   "execution_count": null,
   "id": "8f52f1f6",
   "metadata": {},
   "outputs": [],
   "source": [
    "from turtle import *\n",
    "color('red', 'yellow')\n",
    "begin_fill()\n",
    "while True:\n",
    "    forward(200)\n",
    "    left(170)\n",
    "    if abs(pos()) < 1:\n",
    "        break\n",
    "end_fill()\n",
    "done()"
   ]
  },
  {
   "cell_type": "code",
   "execution_count": null,
   "id": "08e4439c",
   "metadata": {},
   "outputs": [],
   "source": [
    "pos()"
   ]
  },
  {
   "cell_type": "code",
   "execution_count": null,
   "id": "bdf46e23",
   "metadata": {},
   "outputs": [],
   "source": []
  }
 ],
 "metadata": {
  "kernelspec": {
   "display_name": "Python 3 (ipykernel)",
   "language": "python",
   "name": "python3"
  },
  "language_info": {
   "codemirror_mode": {
    "name": "ipython",
    "version": 3
   },
   "file_extension": ".py",
   "mimetype": "text/x-python",
   "name": "python",
   "nbconvert_exporter": "python",
   "pygments_lexer": "ipython3",
   "version": "3.9.7"
  }
 },
 "nbformat": 4,
 "nbformat_minor": 5
}
