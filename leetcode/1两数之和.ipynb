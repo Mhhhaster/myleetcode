{
 "cells": [
  {
   "cell_type": "code",
   "execution_count": null,
   "metadata": {},
   "outputs": [],
   "source": [
    "#法一：暴力搜，注意第二个for循环范围\n",
    "class Solution(object):\n",
    "    def twoSum(self, nums, target):\n",
    "        n=len(nums)\n",
    "        for i in range(n):\n",
    "            for j in range(i+1,n):\n",
    "                if nums[i]+nums[j]==target:\n",
    "                    return i,j"
   ]
  },
  {
   "cell_type": "code",
   "execution_count": null,
   "metadata": {},
   "outputs": [],
   "source": [
    "#法二：建立字典\n",
    "class Solution(object):\n",
    "    def twoSum(self, nums, target):\n",
    "        hashmap={}\n",
    "        for ind,num in enumerate(nums):\n",
    "            hashmap[num] = ind\n",
    "        for i,num in enumerate(nums):\n",
    "            j = hashmap.get(target - num)   #用get方法，如果查找不到则返回None，索引如果找不到会错误\n",
    "            if j is not None and i!=j:      #python中&&用and来代替\n",
    "                return [i,j]"
   ]
  }
 ],
 "metadata": {
  "language_info": {
   "name": "python"
  },
  "orig_nbformat": 4
 },
 "nbformat": 4,
 "nbformat_minor": 2
}
