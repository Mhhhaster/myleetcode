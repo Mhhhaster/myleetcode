{
 "cells": [
  {
   "cell_type": "markdown",
   "metadata": {},
   "source": [
    "# 两次循环暴力解"
   ]
  },
  {
   "cell_type": "code",
   "execution_count": 23,
   "metadata": {},
   "outputs": [
    {
     "data": {
      "text/plain": [
       "[-1, 2, -1]"
      ]
     },
     "execution_count": 23,
     "metadata": {},
     "output_type": "execute_result"
    }
   ],
   "source": [
    "intervals = [[1,4],[2,3],[3,4]]\n",
    "intervalslen=len(intervals)\n",
    "ans=[]\n",
    "for i in range(intervalslen):\n",
    "    index=-1\n",
    "    minright=100000000\n",
    "    for j in range(intervalslen):\n",
    "        if intervals[i][1]<=intervals[j][0]: #右区间小于等于左区间\n",
    "            if(intervals[j][0]<minright):\n",
    "                index=j\n",
    "                minright=intervals[j][0]\n",
    "    ans.append(index)\n",
    "ans"
   ]
  },
  {
   "cell_type": "markdown",
   "metadata": {},
   "source": [
    "# 二分法，先排序"
   ]
  },
  {
   "cell_type": "code",
   "execution_count": 16,
   "metadata": {},
   "outputs": [
    {
     "data": {
      "text/plain": [
       "[[1, 2],\n",
       " [1, 3],\n",
       " [1, 4],\n",
       " [2, 2],\n",
       " [2, 3],\n",
       " [2, 3],\n",
       " [3, 4],\n",
       " [3, 4],\n",
       " [3, 4],\n",
       " [4, 1]]"
      ]
     },
     "execution_count": 16,
     "metadata": {},
     "output_type": "execute_result"
    }
   ],
   "source": [
    "#sort方法对list排序时默认第一个参数\n",
    "intervals = [[1,4],[2,3],[3,4],[3,4],[2,3],[1,2],[2, 2], [3, 4], [4, 1], [1, 3]]\n",
    "intervals.sort()\n",
    "intervals"
   ]
  },
  {
   "cell_type": "code",
   "execution_count": 21,
   "metadata": {},
   "outputs": [
    {
     "data": {
      "text/plain": [
       "[[4, 1],\n",
       " [1, 2],\n",
       " [2, 2],\n",
       " [2, 3],\n",
       " [2, 3],\n",
       " [1, 3],\n",
       " [1, 4],\n",
       " [3, 4],\n",
       " [3, 4],\n",
       " [3, 4]]"
      ]
     },
     "execution_count": 21,
     "metadata": {},
     "output_type": "execute_result"
    }
   ],
   "source": [
    "# 获取列表的第二个元素\n",
    "def takeSecond(elem):\n",
    "    return elem[1]\n",
    " \n",
    "intervals = [[1,4],[2,3],[3,4],[3,4],[2,3],[1,2],[2, 2], [3, 4], [4, 1], [1, 3]]\n",
    "intervals.sort(key=takeSecond)\n",
    "intervals"
   ]
  },
  {
   "cell_type": "code",
   "execution_count": 10,
   "metadata": {},
   "outputs": [
    {
     "data": {
      "text/plain": [
       "[-1, 2, -1]"
      ]
     },
     "execution_count": 10,
     "metadata": {},
     "output_type": "execute_result"
    }
   ],
   "source": [
    "'''\n",
    "my answer:添加索引，方便排序后找到原来位置，二分法再查找位置\n",
    "'''\n",
    "class Solution:\n",
    "    def findRightInterval(self,intervals):\n",
    "        for i,elem in enumerate(intervals):\n",
    "            elem.append(i)\n",
    "        intervals.sort()\n",
    "        length=len(intervals)\n",
    "        intervals.sort()\n",
    "        ans=[-1]*length\n",
    "        for i in range(length-1):\n",
    "            index=self.binarysearch(intervals,intervals[i][1],i,length-1)\n",
    "            if index!=-1:\n",
    "                ans[intervals[i][2]]=intervals[index][2];\n",
    "        return ans\n",
    "        \n",
    "    def binarysearch(self,nums,target,start,end): #都是闭区间\n",
    "        if start==end:\n",
    "            if nums[start][0]>=target:\n",
    "                return start\n",
    "            else:\n",
    "                return -1\n",
    "        mid=(start+end)>>1\n",
    "        if nums[mid][0]>=target:\n",
    "            return self.binarysearch(nums,target,start,mid)\n",
    "        else:\n",
    "            return self.binarysearch(nums,target,mid+1,end)"
   ]
  },
  {
   "cell_type": "code",
   "execution_count": null,
   "metadata": {},
   "outputs": [],
   "source": [
    "'''其他人二分法'''\n",
    "def higher_find(self, nums, target):\n",
    "    left, right = 0, len(nums) - 1\n",
    "    # 用循环代替递归，当left<right时循环执行，再根据条件对lef或者right赋值\n",
    "    while left < right:\n",
    "        mid = left + (right - left) // 2\n",
    "        if nums[mid] >= target:\n",
    "            right = mid\n",
    "        else:\n",
    "            left = mid + 1\n",
    "    if left >= len(nums) or nums[left] < target:\n",
    "        return -1\n",
    "    return left"
   ]
  }
 ],
 "metadata": {
  "interpreter": {
   "hash": "ad2bdc8ecc057115af97d19610ffacc2b4e99fae6737bb82f5d7fb13d2f2c186"
  },
  "kernelspec": {
   "display_name": "Python 3.9.7 ('base')",
   "language": "python",
   "name": "python3"
  },
  "language_info": {
   "codemirror_mode": {
    "name": "ipython",
    "version": 3
   },
   "file_extension": ".py",
   "mimetype": "text/x-python",
   "name": "python",
   "nbconvert_exporter": "python",
   "pygments_lexer": "ipython3",
   "version": "3.9.7"
  },
  "orig_nbformat": 4
 },
 "nbformat": 4,
 "nbformat_minor": 2
}
