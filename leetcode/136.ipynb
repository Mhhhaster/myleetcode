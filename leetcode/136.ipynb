{
 "cells": [
  {
   "cell_type": "markdown",
   "metadata": {},
   "source": [
    "list本身就可以计数、索引、插入和删除，可代替unordered_map"
   ]
  },
  {
   "cell_type": "code",
   "execution_count": null,
   "metadata": {},
   "outputs": [],
   "source": [
    "# 利用count\n",
    "class Solution(object):\n",
    "    def singleNumber(self, nums):\n",
    "        for i in nums:\n",
    "            if(nums.count(i)==1):\n",
    "                return i"
   ]
  },
  {
   "cell_type": "code",
   "execution_count": null,
   "metadata": {},
   "outputs": [],
   "source": [
    "# 利用list统计出现次数\n",
    "class Solution(object):\n",
    "    def singleNumber(self,nums):\n",
    "        list = []\n",
    "        for i in nums:\n",
    "            if i in list:\n",
    "                list.remove(i)\n",
    "            else:\n",
    "                list.append(i)\n",
    "        return list[0]\n"
   ]
  },
  {
   "cell_type": "markdown",
   "metadata": {},
   "source": [
    "利用set和sum函数"
   ]
  },
  {
   "cell_type": "code",
   "execution_count": null,
   "metadata": {},
   "outputs": [],
   "source": [
    "class Solution:\n",
    "    def singleNumber(self, nums: List[int]) -> int:\n",
    "        return 2*sum(set(nums))-sum(nums) #set()将list转化为不重复，sum统计大小"
   ]
  },
  {
   "cell_type": "markdown",
   "metadata": {},
   "source": [
    "利用异或运算^"
   ]
  },
  {
   "cell_type": "code",
   "execution_count": 2,
   "metadata": {},
   "outputs": [
    {
     "name": "stdout",
     "output_type": "stream",
     "text": [
      "3\n"
     ]
    }
   ],
   "source": [
    "'''\n",
    "5=101\n",
    "6=110\n",
    "5^6=011=3\n",
    "'''\n",
    "print(5^6)"
   ]
  },
  {
   "cell_type": "code",
   "execution_count": null,
   "metadata": {},
   "outputs": [],
   "source": [
    "#reduce函数，可以实现在可迭代对象内部的累计运算（累计异或）\n",
    "#格式：reduce(function, iterable)\n",
    "class Solution:\n",
    "    def singleNumber(self, nums: List[int]) -> int:\n",
    "        return reduce(lambda x,y:x^y,nums)\n"
   ]
  }
 ],
 "metadata": {
  "interpreter": {
   "hash": "ad2bdc8ecc057115af97d19610ffacc2b4e99fae6737bb82f5d7fb13d2f2c186"
  },
  "kernelspec": {
   "display_name": "Python 3.9.7 ('base')",
   "language": "python",
   "name": "python3"
  },
  "language_info": {
   "codemirror_mode": {
    "name": "ipython",
    "version": 3
   },
   "file_extension": ".py",
   "mimetype": "text/x-python",
   "name": "python",
   "nbconvert_exporter": "python",
   "pygments_lexer": "ipython3",
   "version": "3.9.7"
  },
  "orig_nbformat": 4
 },
 "nbformat": 4,
 "nbformat_minor": 2
}
