{
 "cells": [
  {
   "cell_type": "markdown",
   "metadata": {},
   "source": [
    "细节：先排序减小搜索量；内函数去除全局变量和self等；return false要在本次dfs所有事件之后，不要提前；注意先放入再判断再回退"
   ]
  },
  {
   "cell_type": "code",
   "execution_count": null,
   "metadata": {},
   "outputs": [],
   "source": [
    "class Solution:\n",
    "    def makesquare(self, matchsticks: List[int]) -> bool:\n",
    "        totalLen = sum(matchsticks)\n",
    "        if totalLen % 4:\n",
    "            return False\n",
    "        matchsticks.sort(reverse=True)\n",
    "\n",
    "        edges = [0] * 4\n",
    "        def dfs(idx: int) -> bool:\n",
    "            if idx == len(matchsticks):\n",
    "                return True\n",
    "            for i in range(4):\n",
    "                edges[i] += matchsticks[idx]\n",
    "                if edges[i] <= totalLen // 4 and dfs(idx + 1):\n",
    "                    return True\n",
    "                edges[i] -= matchsticks[idx]\n",
    "            return False\n",
    "        return dfs(0)"
   ]
  },
  {
   "cell_type": "code",
   "execution_count": null,
   "metadata": {},
   "outputs": [],
   "source": [
    "#错误代码：在搜索时，要考虑状态的回退\n",
    "class Solution:\n",
    "    def makesquare(self, matchsticks: List[int]) -> bool:\n",
    "        def dfs(cur_index):\n",
    "            if cur_index==n:\n",
    "                return True\n",
    "            for i in range(4):\n",
    "                '''\n",
    "                尝试将当前火柴放入，如果没超长度，则\n",
    "                '''\n",
    "                if matchsticks[cur_index]+edgelength[i]<=totallength/4:\n",
    "                    edgelength[i]+=matchsticks[cur_index]\n",
    "                    return dfs(cur_index+1)\n",
    "            return False\n",
    "        n=len(matchsticks)\n",
    "        totallength=sum(matchsticks)\n",
    "        if totallength%4: #不能被4整除\n",
    "            return False\n",
    "        matchsticks.sort(reverse=True) #从大到小加入，减少搜索量\n",
    "        edgelength=[0]*4\n",
    "        return dfs(0)"
   ]
  },
  {
   "cell_type": "code",
   "execution_count": null,
   "metadata": {},
   "outputs": [],
   "source": [
    "class Solution:\n",
    "    def makesquare(self, matchsticks: List[int]) -> bool:\n",
    "        def dfs(cur_index):\n",
    "            if cur_index==n:\n",
    "                return True\n",
    "            for i in range(4):\n",
    "                '''\n",
    "                尝试将当前火柴放入，如果没超长度，则\n",
    "                '''\n",
    "                edgelength[i]+=matchsticks[cur_index]\n",
    "                if edgelength[i]<=totallength/4 and dfs(cur_index+1):\n",
    "                    return True\n",
    "                edgelength[i]-=matchsticks[cur_index]\n",
    "            return False\n",
    "        n=len(matchsticks)\n",
    "        totallength=sum(matchsticks)\n",
    "        if totallength%4: #不能被4整除\n",
    "            return False\n",
    "        matchsticks.sort(reverse=True) #从大到小加入，减少搜索量\n",
    "        edgelength=[0]*4\n",
    "        return dfs(0)"
   ]
  }
 ],
 "metadata": {
  "language_info": {
   "name": "python"
  },
  "orig_nbformat": 4
 },
 "nbformat": 4,
 "nbformat_minor": 2
}
