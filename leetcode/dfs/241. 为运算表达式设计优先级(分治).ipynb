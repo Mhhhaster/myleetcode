{
 "cells": [
  {
   "cell_type": "markdown",
   "metadata": {},
   "source": [
    "给你一个由数字和运算符组成的字符串 expression ，按不同优先级组合数字和运算符，计算并返回所有可能组合的结果。你可以 按任意顺序 返回答案。\n",
    "\n",
    "生成的测试用例满足其对应输出值符合 32 位整数范围，不同结果的数量不超过 104 。\n",
    "\n",
    " \n",
    "\n",
    "示例 1：\n",
    "\n",
    "输入：expression = \"2-1-1\"\n",
    "输出：[0,2]\n",
    "解释：\n",
    "((2-1)-1) = 0 \n",
    "(2-(1-1)) = 2"
   ]
  },
  {
   "cell_type": "code",
   "execution_count": null,
   "metadata": {},
   "outputs": [],
   "source": [
    "class Solution:\n",
    "    def diffWaysToCompute(self, expression: str) -> List[int]:\n",
    "        if expression.isdigit():\n",
    "            return [int(expression)]\n",
    "        res=[]\n",
    "        for index,item in enumerate(expression):\n",
    "            if item in \"+-*\":\n",
    "                left=self.diffWaysToCompute(expression[0:index])\n",
    "                right=self.diffWaysToCompute(expression[index+1:])\n",
    "                for l in left:\n",
    "                    for r in right:\n",
    "                        if item=='+':\n",
    "                            res.append(l+r)\n",
    "                        elif item=='-':\n",
    "                            res.append(l-r)\n",
    "                        else:\n",
    "                            res.append(l*r)\n",
    "        return res"
   ]
  }
 ],
 "metadata": {
  "language_info": {
   "name": "python"
  },
  "orig_nbformat": 4
 },
 "nbformat": 4,
 "nbformat_minor": 2
}
