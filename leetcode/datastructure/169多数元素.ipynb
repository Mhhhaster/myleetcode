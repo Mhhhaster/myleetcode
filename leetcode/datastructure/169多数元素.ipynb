{
 "cells": [
  {
   "cell_type": "code",
   "execution_count": null,
   "metadata": {},
   "outputs": [],
   "source": [
    "#排序后取中位数，必然是多数元素，注意floor后结果为float不能直接作为索引\n",
    "class Solution(object):\n",
    "    def majorityElement(self, nums):\n",
    "        n=len(nums)\n",
    "        nums.sort()\n",
    "        return nums[int(n/2)] #nums[n//2]"
   ]
  }
 ],
 "metadata": {
  "language_info": {
   "name": "python"
  },
  "orig_nbformat": 4
 },
 "nbformat": 4,
 "nbformat_minor": 2
}
