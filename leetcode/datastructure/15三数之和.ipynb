{
 "cells": [
  {
   "cell_type": "code",
   "execution_count": 11,
   "metadata": {},
   "outputs": [
    {
     "data": {
      "text/plain": [
       "[[-1, 0, 1], [-1, -1, 2]]"
      ]
     },
     "execution_count": 11,
     "metadata": {},
     "output_type": "execute_result"
    }
   ],
   "source": [
    "#直接三重循环，利用排序+集合确保不重复，部分超时\n",
    "def threeSum(nums):\n",
    "    \"\"\"\n",
    "    :type nums: List[int]\n",
    "    :rtype: List[List[int]]\n",
    "    \"\"\"\n",
    "    ans=[]\n",
    "    S=set()  # S={}是创建字典,set()是创建空集合\n",
    "    n=len(nums)\n",
    "    for i in range(n):\n",
    "        for j in range(i+1,n):\n",
    "            for k in range(j+1,n):\n",
    "                if(nums[i]+nums[j]+nums[k]==0):\n",
    "                    tempans=[nums[i],nums[j],nums[k]]\n",
    "                    tempans.sort()\n",
    "                    tempans2=tuple(tempans)\n",
    "                    if tempans2 not in S:\n",
    "                        ans.append(tempans)\n",
    "                        S.add(tempans2)   #集合添加元素\n",
    "    return ans\n",
    "threeSum([-1,0,1,2,-1,-4])"
   ]
  },
  {
   "cell_type": "code",
   "execution_count": null,
   "metadata": {},
   "outputs": [],
   "source": [
    "#循环前先用sort排序，方便进行重复检查,无需集合\n",
    "class Solution(object):\n",
    "    def threeSum(self,nums):\n",
    "        \"\"\"\n",
    "        :type nums: List[int]\n",
    "        :rtype: List[List[int]]\n",
    "        \"\"\"\n",
    "        nums.sort()\n",
    "        ans=[]\n",
    "        n=len(nums)\n",
    "        for i in range(n):\n",
    "            if i>0 and nums[i]==nums[i-1]:\n",
    "                continue\n",
    "            for j in range(i+1,n):\n",
    "                if j>i+1 and nums[j]==nums[j-1]:\n",
    "                    continue\n",
    "                for k in range(j+1,n):\n",
    "                    if k>0 and nums[k]==nums[k-1]:\n",
    "                        continue\n",
    "                    if(nums[i]+nums[j]+nums[k]==0):\n",
    "                        ans.append([nums[i],nums[j],nums[k]])\n",
    "        return ans"
   ]
  },
  {
   "cell_type": "code",
   "execution_count": null,
   "metadata": {},
   "outputs": [],
   "source": [
    "#双指针\n",
    "class Solution(object):\n",
    "    def threeSum(self,nums):\n",
    "        \"\"\"\n",
    "        :type nums: List[int]\n",
    "        :rtype: List[List[int]]\n",
    "        \"\"\"\n",
    "        nums.sort()\n",
    "        ans=[]\n",
    "        n=len(nums)\n",
    "        '''\n",
    "        i从0到n-3，j从i+1到n-2，k从j+1到n-1\n",
    "        '''\n",
    "        for i in range(n-2):\n",
    "            if i>0 and nums[i]==nums[i-1]:\n",
    "                continue\n",
    "            k=n-1\n",
    "            for j in range(i+1,n-1):\n",
    "                if j>i+1 and nums[j]==nums[j-1]:\n",
    "                    continue\n",
    "                while(nums[i]+nums[j]+nums[k]>0 and j<k):  #这里需要注意两个循环终止条件：和小于等于0或者j==k\n",
    "                    k-=1\n",
    "                if j==k:                                 #一旦j==k，说明k已经没有了，不需要再检查了(前于检查！)\n",
    "                    break\n",
    "                if(nums[i]+nums[j]+nums[k]==0):\n",
    "                    ans.append([nums[i],nums[j],nums[k]])\n",
    "        return ans"
   ]
  }
 ],
 "metadata": {
  "interpreter": {
   "hash": "ad2bdc8ecc057115af97d19610ffacc2b4e99fae6737bb82f5d7fb13d2f2c186"
  },
  "kernelspec": {
   "display_name": "Python 3.9.7 ('base')",
   "language": "python",
   "name": "python3"
  },
  "language_info": {
   "codemirror_mode": {
    "name": "ipython",
    "version": 3
   },
   "file_extension": ".py",
   "mimetype": "text/x-python",
   "name": "python",
   "nbconvert_exporter": "python",
   "pygments_lexer": "ipython3",
   "version": "3.9.7"
  },
  "orig_nbformat": 4
 },
 "nbformat": 4,
 "nbformat_minor": 2
}
