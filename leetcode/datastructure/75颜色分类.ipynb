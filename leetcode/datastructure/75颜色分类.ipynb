{
 "cells": [
  {
   "cell_type": "code",
   "execution_count": null,
   "metadata": {},
   "outputs": [],
   "source": [
    "#法一：统计0，1，2数量，重写数组"
   ]
  },
  {
   "cell_type": "code",
   "execution_count": null,
   "metadata": {},
   "outputs": [],
   "source": [
    "#法二：扫描两趟，第一趟前置0，第二趟前置1\n",
    "class Solution:\n",
    "    def sortColors(self, nums):\n",
    "        n = len(nums)\n",
    "        ptr = 0\n",
    "        for i in range(n):\n",
    "            if nums[i] == 0:\n",
    "                nums[i], nums[ptr] = nums[ptr], nums[i] #代替swap\n",
    "                ptr += 1\n",
    "        for i in range(ptr, n):\n",
    "            if nums[i] == 1:\n",
    "                nums[i], nums[ptr] = nums[ptr], nums[i]\n",
    "                ptr += 1"
   ]
  }
 ],
 "metadata": {
  "language_info": {
   "name": "python"
  },
  "orig_nbformat": 4
 },
 "nbformat": 4,
 "nbformat_minor": 2
}
