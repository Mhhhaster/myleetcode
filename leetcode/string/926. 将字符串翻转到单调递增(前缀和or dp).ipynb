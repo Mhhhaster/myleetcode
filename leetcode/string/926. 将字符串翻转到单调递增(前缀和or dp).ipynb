{
 "cells": [
  {
   "cell_type": "markdown",
   "metadata": {},
   "source": [
    "如果一个二进制字符串，是以一些 0（可能没有 0）后面跟着一些 1（也可能没有 1）的形式组成的，那么该字符串是 单调递增 的。\n",
    "\n",
    "给你一个二进制字符串 s，你可以将任何 0 翻转为 1 或者将 1 翻转为 0 。\n",
    "\n",
    "返回使 s 单调递增的最小翻转次数。\n",
    "\n",
    "示例 1：\n",
    "\n",
    "输入：s = \"00110\"\n",
    "输出：1\n",
    "解释：翻转最后一位得到 00111.\n"
   ]
  },
  {
   "cell_type": "code",
   "execution_count": 11,
   "metadata": {},
   "outputs": [
    {
     "name": "stdout",
     "output_type": "stream",
     "text": [
      "2\n"
     ]
    }
   ],
   "source": [
    "'''\n",
    "前缀和思路，遍历字符串，统计当前位置左边有多少0，1，右边有多少0，1。\n",
    "并假设以当前位置左边全为0，本身及其右边全为1，需要操作多少次\n",
    "'''\n",
    "class Solution:\n",
    "    def minFlipsMonoIncr(self, s) :\n",
    "        n=len(s)\n",
    "        if n==0 or n==1:\n",
    "            return 0\n",
    "        S=0\n",
    "        for i in s:\n",
    "            if i=='1':\n",
    "                S+=1\n",
    "        tempS=0\n",
    "        minop=float('inf')\n",
    "        for i in range(n+1):\n",
    "            #tempS为左侧1数量，i为左侧总元素数目，S-tempS为本身及其右侧1数量，n-i为元素数目\n",
    "            if tempS+(n-i-S+tempS)<minop:\n",
    "                minop=tempS+(n-i-S+tempS)\n",
    "            if i<n and s[i]=='1':\n",
    "                tempS+=1\n",
    "        return minop\n",
    "\n",
    "Solution=Solution()\n",
    "print(Solution.minFlipsMonoIncr(\"00011000\"))\n"
   ]
  },
  {
   "cell_type": "code",
   "execution_count": 12,
   "metadata": {},
   "outputs": [
    {
     "name": "stdout",
     "output_type": "stream",
     "text": [
      "2\n"
     ]
    }
   ],
   "source": [
    "'''\n",
    "每个位置有两个状态，\n",
    "维护两个dp数组，分别表示该位为0或者1所需要的最小操作次数\n",
    "递推关系：\n",
    "如果该位为0，反转次数\n",
    "最终翻转结果为0：dp[i][0]=dp[i-1][0]\n",
    "即本身及左方全为0\n",
    "最终翻转结果为1：dp[i][1]=min(dp[i-1][0],dp[i-1][1])+1\n",
    "即本身为1，左方全一致\n",
    "如果该位为1，\n",
    "dp[i][0]=dp[i-1][0]+1\n",
    "dp[i][1]=min(dp[i-1][0],dp[i-1][1])\n",
    "'''\n",
    "class Solution:\n",
    "    def minFlipsMonoIncr(self, s) :\n",
    "        n=len(s)\n",
    "        dp=[[0]*2 for i in range(n)]\n",
    "        for i in range(n):\n",
    "            if s[i]=='0':\n",
    "                dp[i][0]=dp[i-1][0]\n",
    "                dp[i][1]=min(dp[i-1][0],dp[i-1][1])+1\n",
    "            else:\n",
    "                dp[i][0]=dp[i-1][0]+1\n",
    "                dp[i][1]=min(dp[i-1][0],dp[i-1][1])\n",
    "        return min(dp[n-1][0],dp[n-1][1])\n",
    "\n",
    "Solution=Solution()\n",
    "print(Solution.minFlipsMonoIncr(\"00011000\"))\n",
    "        "
   ]
  }
 ],
 "metadata": {
  "kernelspec": {
   "display_name": "Python 3.9.7 ('base')",
   "language": "python",
   "name": "python3"
  },
  "language_info": {
   "codemirror_mode": {
    "name": "ipython",
    "version": 3
   },
   "file_extension": ".py",
   "mimetype": "text/x-python",
   "name": "python",
   "nbconvert_exporter": "python",
   "pygments_lexer": "ipython3",
   "version": "3.9.7"
  },
  "orig_nbformat": 4,
  "vscode": {
   "interpreter": {
    "hash": "ad2bdc8ecc057115af97d19610ffacc2b4e99fae6737bb82f5d7fb13d2f2c186"
   }
  }
 },
 "nbformat": 4,
 "nbformat_minor": 2
}
