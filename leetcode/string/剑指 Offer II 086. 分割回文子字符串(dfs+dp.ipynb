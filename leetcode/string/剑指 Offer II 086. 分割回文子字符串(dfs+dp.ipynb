{
 "cells": [
  {
   "cell_type": "markdown",
   "metadata": {},
   "source": [
    "给定一个字符串 s ，请将 s 分割成一些子串，使每个子串都是 回文串 ，返回 s 所有可能的分割方案。\n",
    "\n",
    "回文串 是正着读和反着读都一样的字符串。\n",
    "\n",
    " \n",
    "\n",
    "示例 1：\n",
    "\n",
    "输入：s = \"google\"\n",
    "输出：[[\"g\",\"o\",\"o\",\"g\",\"l\",\"e\"],[\"g\",\"oo\",\"g\",\"l\",\"e\"],[\"goog\",\"l\",\"e\"]]\n",
    "示例 2：\n",
    "\n",
    "输入：s = \"aab\"\n",
    "输出：[[\"a\",\"a\",\"b\"],[\"aa\",\"b\"]]"
   ]
  },
  {
   "cell_type": "code",
   "execution_count": 1,
   "metadata": {},
   "outputs": [
    {
     "name": "stdout",
     "output_type": "stream",
     "text": [
      "[['g', 'o', 'o', 'g', 'l', 'e'], ['g', 'oo', 'g', 'l', 'e'], ['goog', 'l', 'e']]\n"
     ]
    }
   ],
   "source": [
    "#dp+dfs\n",
    "class Solution(object):\n",
    "    def partition(self, s):\n",
    "        \"\"\"\n",
    "        :type s: str\n",
    "        :rtype: List[List[str]]\n",
    "        \"\"\"\n",
    "        if not s:\n",
    "            return []\n",
    "        n=len(s)\n",
    "        iscircle=[[True]*n for _ in range(n)] #iscircle[i][j]=True表示i到j是回文\n",
    "        for length in range(2,n+1): #长度从2开始，到n结束\n",
    "            for left in range(0,n-length+1):\n",
    "                right=left+length-1\n",
    "                iscircle[left][right]=iscircle[left+1][right-1] and s[left]==s[right]\n",
    "        totalans=[]\n",
    "        ans=[]\n",
    "        def dfs(index): #dfs逻辑：假设index前的字符串是回文，从index往后枚举，如果[i,j]是回文，则将[i,j]加入ans，dfs(j+1)，再将[i,j]出栈\n",
    "            #先处理终止情况：遍历完所有字符，将维护的变量加入总答案\n",
    "            if index==n:\n",
    "                # totalans.append(ans) 错误，列表中添加列表，需要把被添加的列表所有元素列举\n",
    "                totalans.append(ans[:])\n",
    "                return\n",
    "            for next in range(index,n):\n",
    "                if iscircle[index][next]:\n",
    "                    ans.append(s[index:next+1])\n",
    "                    dfs(next+1)\n",
    "                    ans.pop()\n",
    "        dfs(0)\n",
    "        return totalans\n",
    "Solution=Solution()\n",
    "print(Solution.partition(\"google\"))\n"
   ]
  },
  {
   "cell_type": "code",
   "execution_count": 8,
   "metadata": {},
   "outputs": [
    {
     "data": {
      "text/plain": [
       "'l'"
      ]
     },
     "execution_count": 8,
     "metadata": {},
     "output_type": "execute_result"
    }
   ],
   "source": [
    "string=\"google\"\n",
    "string[4:5]"
   ]
  },
  {
   "cell_type": "markdown",
   "metadata": {},
   "source": []
  }
 ],
 "metadata": {
  "interpreter": {
   "hash": "ad2bdc8ecc057115af97d19610ffacc2b4e99fae6737bb82f5d7fb13d2f2c186"
  },
  "kernelspec": {
   "display_name": "Python 3.9.7 ('base')",
   "language": "python",
   "name": "python3"
  },
  "language_info": {
   "codemirror_mode": {
    "name": "ipython",
    "version": 3
   },
   "file_extension": ".py",
   "mimetype": "text/x-python",
   "name": "python",
   "nbconvert_exporter": "python",
   "pygments_lexer": "ipython3",
   "version": "3.9.7"
  },
  "orig_nbformat": 4
 },
 "nbformat": 4,
 "nbformat_minor": 2
}
