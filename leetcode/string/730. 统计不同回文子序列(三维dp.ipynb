{
 "cells": [
  {
   "cell_type": "markdown",
   "metadata": {},
   "source": [
    "给定一个字符串 s，返回 s 中不同的非空「回文子序列」个数 。\n",
    "通过从 s 中删除 0 个或多个字符来获得子序列。\n",
    "如果一个字符序列与它反转后的字符序列一致，那么它是「回文字符序列」。\n",
    "如果有某个 i , 满足 ai != bi ，则两个序列 a1, a2, ... 和 b1, b2, ... 不同。\n",
    "注意：\n",
    "结果可能很大，你需要对 109 + 7 取模 。\n",
    " \n",
    "输入：s = 'bccb'\n",
    "输出：6\n",
    "解释：6 个不同的非空回文子字符序列分别为：'b', 'c', 'bb', 'cc', 'bcb', 'bccb'。\n",
    "注意：'bcb' 虽然出现两次但仅计数一次。"
   ]
  },
  {
   "cell_type": "code",
   "execution_count": 1,
   "metadata": {},
   "outputs": [
    {
     "name": "stdout",
     "output_type": "stream",
     "text": [
      "6\n"
     ]
    }
   ],
   "source": [
    "class Solution(object):\n",
    "    def countPalindromicSubsequences(self, s):\n",
    "        # 如果一个字符串s有k个回文子序列，那么在它俩边加上一个字符c，k个回文子序列可以一一映射为k个以c开头结尾的回文子序列\n",
    "        # 再加上c和cc，则该序列中有k+2个以c开头结尾的回文子序列\n",
    "        n=len(s)\n",
    "        dp=[[[0]*n for _ in range(n)] for _ in range(4)]\n",
    "        '''下例初始化错误，dp要求是对应字母开头结尾\n",
    "        for i in range(4):\n",
    "            for j in range(n):\n",
    "                dp[i][j][j]=1\n",
    "        '''\n",
    "\n",
    "        for index,elem in enumerate(s): #对每个字母\n",
    "            dp[ord(elem)-ord('a')][index][index]=1\n",
    "        for length in range(2,n+1):\n",
    "            for left in range(0,n-length+1):\n",
    "                right=left+length-1\n",
    "                for i in 'abcd':\n",
    "                    if i==s[left] and i==s[right]:\n",
    "                        dp[ord(i)-ord('a')][left][right]=dp[0][left+1][right-1]+dp[1][left+1][right-1]+dp[2][left+1][right-1]+dp[3][left+1][right-1]+2\n",
    "                    elif i==s[left]:\n",
    "                        dp[ord(i)-ord('a')][left][right]=dp[ord(i)-ord('a')][left][right-1]\n",
    "                    elif i==s[right]:\n",
    "                        dp[ord(i)-ord('a')][left][right]=dp[ord(i)-ord('a')][left+1][right]\n",
    "                    else:\n",
    "                        dp[ord(i)-ord('a')][left][right]=dp[ord(i)-ord('a')][left+1][right-1]\n",
    "        return (dp[0][0][n-1]+dp[1][0][n-1]+dp[2][0][n-1]+dp[3][0][n-1])%(10**9+7)\n",
    "Solution=Solution()\n",
    "print(Solution.countPalindromicSubsequences('bccb'))\n",
    "        \n",
    "\n"
   ]
  }
 ],
 "metadata": {
  "interpreter": {
   "hash": "ad2bdc8ecc057115af97d19610ffacc2b4e99fae6737bb82f5d7fb13d2f2c186"
  },
  "kernelspec": {
   "display_name": "Python 3.9.7 ('base')",
   "language": "python",
   "name": "python3"
  },
  "language_info": {
   "codemirror_mode": {
    "name": "ipython",
    "version": 3
   },
   "file_extension": ".py",
   "mimetype": "text/x-python",
   "name": "python",
   "nbconvert_exporter": "python",
   "pygments_lexer": "ipython3",
   "version": "3.9.7"
  },
  "orig_nbformat": 4
 },
 "nbformat": 4,
 "nbformat_minor": 2
}
