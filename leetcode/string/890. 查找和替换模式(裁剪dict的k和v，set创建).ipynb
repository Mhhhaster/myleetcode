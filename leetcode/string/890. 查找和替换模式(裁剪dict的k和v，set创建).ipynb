{
 "cells": [
  {
   "cell_type": "markdown",
   "metadata": {},
   "source": [
    "你有一个单词列表 words 和一个模式  pattern，你想知道 words 中的哪些单词与模式匹配。\n",
    "如果存在字母的排列 p ，使得将模式中的每个字母 x 替换为 p(x) 之后，我们就得到了所需的单词，那么单词与模式是匹配的。\n",
    "（回想一下，字母的排列是从字母到字母的双射：每个字母映射到另一个字母，没有两个字母映射到同一个字母。）\n",
    "返回 words 中与给定模式匹配的单词列表。\n",
    "你可以按任何顺序返回答案。\n",
    "\n",
    "示例：\n",
    "输入：words = [\"abc\",\"deq\",\"mee\",\"aqq\",\"dkd\",\"ccc\"], pattern = \"abb\"\n",
    "输出：[\"mee\",\"aqq\"]\n",
    "解释：\n",
    "\"mee\" 与模式匹配，因为存在排列 {a -> m, b -> e, ...}。\n",
    "\"ccc\" 与模式不匹配，因为 {a -> c, b -> c, ...} 不是排列。\n",
    "因为 a 和 b 映射到同一个字母。"
   ]
  },
  {
   "cell_type": "code",
   "execution_count": 5,
   "metadata": {},
   "outputs": [
    {
     "name": "stdout",
     "output_type": "stream",
     "text": [
      "['mee', 'aqq']\n"
     ]
    }
   ],
   "source": [
    "from typing import List\n",
    "class Solution:\n",
    "    def findAndReplacePattern(self, words: List[str], pattern: str) -> List[str]:\n",
    "        ans=[]\n",
    "        def ismatch(word,pattern):\n",
    "            n=len(pattern)\n",
    "            if n is not len(word):\n",
    "                return False\n",
    "            d={}\n",
    "            for i in range(n):\n",
    "                if pattern[i] not in d:\n",
    "                    d[pattern[i]]=word[i]\n",
    "                if d[pattern[i]] is not word[i]:\n",
    "                    return False\n",
    "            # 从循环跳出说明存在单一映射满足pattern->word\n",
    "            # 但考虑到不能映射到同一字符，需要遍历字典\n",
    "            if len(d) is len(set(d.values())):\n",
    "                return True\n",
    "            else:\n",
    "                return False\n",
    "\n",
    "        for word in words:\n",
    "            if ismatch(word,pattern):\n",
    "                ans.append(word)\n",
    "        return ans\n",
    "\n",
    "Solution=Solution()\n",
    "print(Solution.findAndReplacePattern([\"abc\",\"deq\",\"mee\",\"aqq\",\"dkd\",\"ccc\"],\"abb\"))"
   ]
  }
 ],
 "metadata": {
  "kernelspec": {
   "display_name": "Python 3.9.7 ('base')",
   "language": "python",
   "name": "python3"
  },
  "language_info": {
   "codemirror_mode": {
    "name": "ipython",
    "version": 3
   },
   "file_extension": ".py",
   "mimetype": "text/x-python",
   "name": "python",
   "nbconvert_exporter": "python",
   "pygments_lexer": "ipython3",
   "version": "3.9.7"
  },
  "orig_nbformat": 4,
  "vscode": {
   "interpreter": {
    "hash": "ad2bdc8ecc057115af97d19610ffacc2b4e99fae6737bb82f5d7fb13d2f2c186"
   }
  }
 },
 "nbformat": 4,
 "nbformat_minor": 2
}
