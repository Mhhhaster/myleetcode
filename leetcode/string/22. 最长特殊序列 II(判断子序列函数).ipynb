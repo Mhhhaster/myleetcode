{
 "cells": [
  {
   "cell_type": "markdown",
   "metadata": {},
   "source": [
    "给定字符串列表 strs ，返回其中 最长的特殊序列 。如果最长特殊序列不存在，返回 -1 。\n",
    "\n",
    "特殊序列 定义如下：该序列为某字符串 独有的子序列（即不能是其他字符串的子序列）。\n",
    "\n",
    " s 的 子序列可以通过删去字符串 s 中的某些字符实现。\n",
    "\n",
    "例如，\"abc\" 是 \"aebdc\" 的子序列，因为您可以删除\"aebdc\"中的下划线字符来得到 \"abc\" 。\"aebdc\"的子序列还包括\"aebdc\"、 \"aeb\" 和 \"\" (空字符串)。\n"
   ]
  },
  {
   "cell_type": "code",
   "execution_count": null,
   "metadata": {},
   "outputs": [],
   "source": [
    "class Solution:\n",
    "    def findLUSlength(self, strs: List[str]) -> int:\n",
    "        def is_sub_str(s1: str, s2: str) -> bool:\n",
    "            if len(s2) < len(s1):\n",
    "                return False\n",
    "            i = j = 0\n",
    "            while i < len(s1) and j < len(s2):\n",
    "                if s1[i] == s2[j]:\n",
    "                    i += 1\n",
    "                    j += 1\n",
    "                else:\n",
    "                    j += 1\n",
    "            return i == len(s1)\n",
    "\n",
    "        def is_subseq(s: str, t: str) -> bool:\n",
    "            pt_s = pt_t = 0\n",
    "            while pt_s < len(s) and pt_t < len(t):\n",
    "                if s[pt_s] == t[pt_t]:\n",
    "                    pt_s += 1\n",
    "                pt_t += 1\n",
    "            return pt_s == len(s)\n",
    "        \n",
    "        ans = -1\n",
    "        for i, s in enumerate(strs):\n",
    "            check = True\n",
    "            for j, t in enumerate(strs):\n",
    "                if i != j and is_subseq(s, t):\n",
    "                    check = False\n",
    "                    break\n",
    "            if check:\n",
    "                ans = max(ans, len(s))\n",
    "        \n",
    "        return ans\n",
    "\n"
   ]
  },
  {
   "cell_type": "code",
   "execution_count": 1,
   "metadata": {},
   "outputs": [
    {
     "name": "stdout",
     "output_type": "stream",
     "text": [
      "s\n",
      "t\n",
      "r\n",
      "s\n"
     ]
    }
   ],
   "source": [
    "for i,s in enumerate(\"strs\"):\n",
    "    print(s)\n",
    "    "
   ]
  }
 ],
 "metadata": {
  "kernelspec": {
   "display_name": "Python 3.8.9 64-bit",
   "language": "python",
   "name": "python3"
  },
  "language_info": {
   "codemirror_mode": {
    "name": "ipython",
    "version": 3
   },
   "file_extension": ".py",
   "mimetype": "text/x-python",
   "name": "python",
   "nbconvert_exporter": "python",
   "pygments_lexer": "ipython3",
   "version": "3.8.9"
  },
  "orig_nbformat": 4,
  "vscode": {
   "interpreter": {
    "hash": "31f2aee4e71d21fbe5cf8b01ff0e069b9275f58929596ceb00d14d90e3e16cd6"
   }
  }
 },
 "nbformat": 4,
 "nbformat_minor": 2
}
