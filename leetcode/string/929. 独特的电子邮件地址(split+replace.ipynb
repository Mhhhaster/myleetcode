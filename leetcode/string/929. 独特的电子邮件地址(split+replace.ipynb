{
 "cells": [
  {
   "cell_type": "markdown",
   "metadata": {},
   "source": [
    "每个 有效电子邮件地址 都由一个 本地名 和一个 域名 组成，以 '@' 符号分隔。除小写字母之外，电子邮件地址还可以含有一个或多个 '.' 或 '+' 。\n",
    "\n",
    "例如，在 alice@leetcode.com中， alice 是 本地名 ，而 leetcode.com 是 域名 。\n",
    "如果在电子邮件地址的 本地名 部分中的某些字符之间添加句点（'.'），则发往那里的邮件将会转发到本地名中没有点的同一地址。请注意，此规则 不适用于域名 。\n",
    "\n",
    "例如，\"alice.z@leetcode.com” 和 “alicez@leetcode.com” 会转发到同一电子邮件地址。\n",
    "如果在 本地名 中添加加号（'+'），则会忽略第一个加号后面的所有内容。这允许过滤某些电子邮件。同样，此规则 不适用于域名 。\n",
    "\n",
    "例如 m.y+name@email.com 将转发到 my@email.com。\n",
    "可以同时使用这两个规则。\n",
    "\n",
    "给你一个字符串数组 emails，我们会向每个 emails[i] 发送一封电子邮件。返回实际收到邮件的不同地址数目。"
   ]
  },
  {
   "cell_type": "code",
   "execution_count": 8,
   "metadata": {},
   "outputs": [
    {
     "name": "stdout",
     "output_type": "stream",
     "text": [
      "3\n"
     ]
    }
   ],
   "source": [
    "#需要完成三个工作：分割字符串+部分保留，忽略某字符\n",
    "import collections\n",
    "class Solution(object):\n",
    "    def numUniqueEmails(self, emails):\n",
    "        dict=collections.defaultdict(int)\n",
    "        for email in emails:\n",
    "            name,domain=email.split('@')  #以@分割本地名和域名\n",
    "            name=name.split('+')[0]       #只保留第一个+号前的部分\n",
    "            name=name.replace('.','')     #忽略本地名中的.\n",
    "            dict[name+'@'+domain]+=1      #也可设为二元组，拼接即可\n",
    "        return len(dict)\n",
    "Solution=Solution()\n",
    "emails = [\"a@leetcode.com\",\"b@leetcode.com\",\"c@leetcode.com\"]\n",
    "print(Solution.numUniqueEmails(emails))"
   ]
  }
 ],
 "metadata": {
  "interpreter": {
   "hash": "ad2bdc8ecc057115af97d19610ffacc2b4e99fae6737bb82f5d7fb13d2f2c186"
  },
  "kernelspec": {
   "display_name": "Python 3.9.7 ('base')",
   "language": "python",
   "name": "python3"
  },
  "language_info": {
   "codemirror_mode": {
    "name": "ipython",
    "version": 3
   },
   "file_extension": ".py",
   "mimetype": "text/x-python",
   "name": "python",
   "nbconvert_exporter": "python",
   "pygments_lexer": "ipython3",
   "version": "3.9.7"
  },
  "orig_nbformat": 4
 },
 "nbformat": 4,
 "nbformat_minor": 2
}
