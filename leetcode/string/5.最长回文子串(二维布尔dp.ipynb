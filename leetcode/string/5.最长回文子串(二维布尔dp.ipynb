{
 "cells": [
  {
   "cell_type": "code",
   "execution_count": null,
   "metadata": {},
   "outputs": [],
   "source": [
    "class Solution(object):\n",
    "    def longestPalindrome(self, s):\n",
    "        \"\"\"\n",
    "        panlindromic[i][j]=True表示s[i][j]回文，最大s[0][n-1]\n",
    "        空字符串和一个字符都回文\n",
    "        panlindromic[i][j]=True if panlindromic[i+1][j-1]=True and s[i]==s[j] else False\n",
    "        \"\"\"\n",
    "        if not s:\n",
    "            return \"\"\n",
    "        n=len(s)\n",
    "        panlindromic=[[False]*n for _ in range(n)]\n",
    "        for i in range(n):\n",
    "            panlindromic[i][i]=True  #长度为1\n",
    "        for i in range(1,n):\n",
    "            panlindromic[i][i-1]=True  #空字符串\n",
    "        start,maxlength=0,0\n",
    "        #边界情况：\n",
    "        #  长度为1，左=0...n-2\n",
    "        # 长度为n，左=0...0\n",
    "        for length in range(1,n+1): #1.....n\n",
    "            for left in range(0,n-length+1):  #0....n-length-1\n",
    "                right=left+length-1\n",
    "                if length!=1:\n",
    "                    panlindromic[left][right]=True if panlindromic[left+1][right-1]==True and s[left]==s[right] else False\n",
    "                if panlindromic[left][right]==True and length>maxlength:\n",
    "                    start=left\n",
    "                    maxlength=length\n",
    "        return s[start:start+maxlength]\n",
    "Solution=Solution()\n",
    "print(Solution.longestPalindrome(\"cbbd\"))"
   ]
  }
 ],
 "metadata": {
  "kernelspec": {
   "display_name": "Python 3.9.7 ('base')",
   "language": "python",
   "name": "python3"
  },
  "language_info": {
   "name": "python",
   "version": "3.9.7"
  },
  "orig_nbformat": 4,
  "vscode": {
   "interpreter": {
    "hash": "ad2bdc8ecc057115af97d19610ffacc2b4e99fae6737bb82f5d7fb13d2f2c186"
   }
  }
 },
 "nbformat": 4,
 "nbformat_minor": 2
}
