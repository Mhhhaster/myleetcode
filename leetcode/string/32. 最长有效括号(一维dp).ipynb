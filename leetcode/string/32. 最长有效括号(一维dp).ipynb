{
 "cells": [
  {
   "cell_type": "markdown",
   "metadata": {},
   "source": [
    "32. 最长有效括号\n",
    "给你一个只包含 '(' 和 ')' 的字符串，找出最长有效（格式正确且连续）括号子串的长度。\n",
    "\n",
    "\n",
    "示例 1：\n",
    "\n",
    "输入：s = \"(()\"\n",
    "输出：2\n",
    "解释：最长有效括号子串是 \"()\""
   ]
  },
  {
   "cell_type": "code",
   "execution_count": null,
   "metadata": {},
   "outputs": [],
   "source": [
    "class Solution:\n",
    "    def longestValidParentheses(self, s: str) -> int:\n",
    "        n = len(s)\n",
    "        if n == 0: return 0\n",
    "        dp = [0] * n  #dp[i]定义为以i为结尾的最长有效括号长度\n",
    "        res = 0\n",
    "        for i in range(n):\n",
    "            if i>0 and s[i] == \")\":            #必然是以\")\"结尾\n",
    "                if  s[i - 1] == \"(\":           #如果前一个是\"(\",则可以直接加2\n",
    "                    dp[i] = dp[i - 2] + 2\n",
    "                # 如果前一个也是\")\",那么需要判断前一个是否是有效括号\n",
    "                elif s[i - 1] == \")\" and i - dp[i - 1] - 1 >= 0 and s[i - dp[i - 1] - 1] == \"(\":\n",
    "                    dp[i] = dp[i - 1] + 2 + dp[i - dp[i - 1] - 2]\n",
    "                if dp[i] > res:\n",
    "                    res = dp[i]\n",
    "        return res\n"
   ]
  }
 ],
 "metadata": {
  "language_info": {
   "name": "python"
  },
  "orig_nbformat": 4
 },
 "nbformat": 4,
 "nbformat_minor": 2
}
