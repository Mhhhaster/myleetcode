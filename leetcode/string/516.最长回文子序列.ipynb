{
 "cells": [
  {
   "cell_type": "markdown",
   "metadata": {},
   "source": [
    "输入：s = \"babad\"\n",
    "输出：\"bab\"\n",
    "解释：\"aba\" 同样是符合题意的答案"
   ]
  },
  {
   "cell_type": "markdown",
   "metadata": {},
   "source": [
    "输入：s = \"cbbd\"\n",
    "输出：\"bb\""
   ]
  },
  {
   "cell_type": "code",
   "execution_count": 3,
   "metadata": {},
   "outputs": [],
   "source": [
    "#错解：没有按长度从小到大生成dp数组\n",
    "class Solution:\n",
    "    def longestPalindromeSubseq(self, s: str) -> int:\n",
    "        n=len(s)\n",
    "        if n<2:\n",
    "            return n\n",
    "        dp=[[0]*n for _ in range(n)]\n",
    "        #空字符串dp[i][i-1]=0，单字符值dp[i][i]=1\n",
    "        for i in range(n):\n",
    "            dp[i][i]=1\n",
    "        for left in range(n):\n",
    "            for right in range(left+1,n):\n",
    "                if s[left]==s[right]:\n",
    "                    dp[left][right]=dp[left+1][right-1]+2\n",
    "                else:\n",
    "                    dp[left][right]=max(dp[left+1][right],dp[left][right-1])\n",
    "        return dp[0][n-1]\n",
    "\n",
    "Solution=Solution()\n",
    "print(Solution.longestPalindromeSubseq(\"bbbab\"))"
   ]
  },
  {
   "cell_type": "code",
   "execution_count": 1,
   "metadata": {},
   "outputs": [
    {
     "name": "stdout",
     "output_type": "stream",
     "text": [
      "4\n"
     ]
    }
   ],
   "source": [
    "class Solution:\n",
    "    def longestPalindromeSubseq(self, s: str) -> int:\n",
    "        '''\n",
    "        异常值判定\n",
    "        二维数组创建、初始化\n",
    "        迭代计算\n",
    "        '''\n",
    "        n=len(s)\n",
    "        if n<2:\n",
    "            return n\n",
    "        dp=[[0]*n for _ in range(n)]\n",
    "        #空字符串dp[i][i-1]=0，单字符值dp[i][i]=1\n",
    "        for i in range(n):\n",
    "            dp[i][i]=1\n",
    "        for length in range(2,n+1):  #片段长度从2开始，长度为1的片段已经经过初始化了\n",
    "            for left in range(0,n-length+1):\n",
    "                right=left+length-1   #right<=n-1  left+length-1<=n-1 left<=n-length\n",
    "                if s[left]==s[right]:\n",
    "                    dp[left][right]=dp[left+1][right-1]+2\n",
    "                else:\n",
    "                    dp[left][right]=max(dp[left+1][right],dp[left][right-1])\n",
    "        return dp[0][n-1]\n",
    "\n",
    "Solution=Solution()\n",
    "print(Solution.longestPalindromeSubseq(\"bbbab\"))"
   ]
  }
 ],
 "metadata": {
  "interpreter": {
   "hash": "ad2bdc8ecc057115af97d19610ffacc2b4e99fae6737bb82f5d7fb13d2f2c186"
  },
  "kernelspec": {
   "display_name": "Python 3.9.7 ('base')",
   "language": "python",
   "name": "python3"
  },
  "language_info": {
   "codemirror_mode": {
    "name": "ipython",
    "version": 3
   },
   "file_extension": ".py",
   "mimetype": "text/x-python",
   "name": "python",
   "nbconvert_exporter": "python",
   "pygments_lexer": "ipython3",
   "version": "3.9.7"
  },
  "orig_nbformat": 4
 },
 "nbformat": 4,
 "nbformat_minor": 2
}
