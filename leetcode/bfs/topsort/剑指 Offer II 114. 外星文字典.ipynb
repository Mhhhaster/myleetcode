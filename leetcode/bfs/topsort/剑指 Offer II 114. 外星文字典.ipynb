{
 "cells": [
  {
   "cell_type": "markdown",
   "metadata": {},
   "source": [
    "现有一种使用英语字母的外星文语言，这门语言的字母顺序与英语顺序不同。\n",
    "\n",
    "给定一个字符串列表 words ，作为这门语言的词典，words 中的字符串已经 按这门新语言的字母顺序进行了排序 。\n",
    "\n",
    "请你根据该词典还原出此语言中已知的字母顺序，并 按字母递增顺序 排列。若不存在合法字母顺序，返回 \"\" 。若存在多种可能的合法字母顺序，返回其中 任意一种 顺序即可。\n",
    "\n",
    "字符串 s 字典顺序小于 字符串 t 有两种情况：\n",
    "\n",
    "在第一个不同字母处，如果 s 中的字母在这门外星语言的字母顺序中位于 t 中字母之前，那么 s 的字典顺序小于 t 。\n",
    "如果前面 min(s.length, t.length) 字母都相同，那么 s.length < t.length 时，s 的字典顺序也小于 t 。"
   ]
  },
  {
   "cell_type": "markdown",
   "metadata": {},
   "source": [
    "输入：words = [\"wrt\",\"wrf\",\"er\",\"ett\",\"rftt\"]\n",
    "输出：\"wertf\""
   ]
  },
  {
   "cell_type": "code",
   "execution_count": 5,
   "metadata": {},
   "outputs": [
    {
     "ename": "ImportError",
     "evalue": "cannot import name 'pairwise' from 'itertools' (unknown location)",
     "output_type": "error",
     "traceback": [
      "\u001b[1;31m---------------------------------------------------------------------------\u001b[0m",
      "\u001b[1;31mImportError\u001b[0m                               Traceback (most recent call last)",
      "\u001b[1;32m~\\AppData\\Local\\Temp/ipykernel_91012/2520777751.py\u001b[0m in \u001b[0;36m<module>\u001b[1;34m\u001b[0m\n\u001b[1;32m----> 1\u001b[1;33m \u001b[1;32mfrom\u001b[0m \u001b[0mitertools\u001b[0m \u001b[1;32mimport\u001b[0m \u001b[0mpairwise\u001b[0m\u001b[1;33m\u001b[0m\u001b[1;33m\u001b[0m\u001b[0m\n\u001b[0m\u001b[0;32m      2\u001b[0m \u001b[1;32mclass\u001b[0m \u001b[0mSolution\u001b[0m\u001b[1;33m:\u001b[0m\u001b[1;33m\u001b[0m\u001b[1;33m\u001b[0m\u001b[0m\n\u001b[0;32m      3\u001b[0m     \u001b[1;32mdef\u001b[0m \u001b[0malienOrder\u001b[0m\u001b[1;33m(\u001b[0m\u001b[0mself\u001b[0m\u001b[1;33m,\u001b[0m \u001b[0mwords\u001b[0m\u001b[1;33m)\u001b[0m\u001b[1;33m:\u001b[0m\u001b[1;33m\u001b[0m\u001b[1;33m\u001b[0m\u001b[0m\n\u001b[0;32m      4\u001b[0m         \u001b[0mg\u001b[0m \u001b[1;33m=\u001b[0m \u001b[1;33m{\u001b[0m\u001b[1;33m}\u001b[0m\u001b[1;33m\u001b[0m\u001b[1;33m\u001b[0m\u001b[0m\n\u001b[0;32m      5\u001b[0m         \u001b[1;32mfor\u001b[0m \u001b[0mc\u001b[0m \u001b[1;32min\u001b[0m \u001b[0mwords\u001b[0m\u001b[1;33m[\u001b[0m\u001b[1;36m0\u001b[0m\u001b[1;33m]\u001b[0m\u001b[1;33m:\u001b[0m\u001b[1;33m\u001b[0m\u001b[1;33m\u001b[0m\u001b[0m\n",
      "\u001b[1;31mImportError\u001b[0m: cannot import name 'pairwise' from 'itertools' (unknown location)"
     ]
    }
   ],
   "source": [
    "from itertools import pairwise\n",
    "class Solution:\n",
    "    def alienOrder(self, words):\n",
    "        g = {}\n",
    "        for c in words[0]:\n",
    "            g[c] = []\n",
    "        for s, t in pairwise(words):\n",
    "            for c in t:\n",
    "                g.setdefault(c, [])\n",
    "            for u, v in zip(s, t):\n",
    "                if u != v:\n",
    "                    g[u].append(v)\n",
    "                    break\n",
    "            else:\n",
    "                if len(s) > len(t):\n",
    "                    return \"\"\n",
    "\n",
    "        VISITING, VISITED = 1, 2\n",
    "        states = {}\n",
    "        order = []\n",
    "        def dfs(u):\n",
    "            states[u] = VISITING\n",
    "            for v in g[u]:\n",
    "                if v not in states:\n",
    "                    if not dfs(v):\n",
    "                        return False\n",
    "                elif states[v] == VISITING:\n",
    "                    return False\n",
    "            order.append(u)\n",
    "            states[u] = VISITED\n",
    "            return True\n",
    "\n",
    "        return ''.join(reversed(order)) if all(dfs(u) for u in g if u not in states) else \"\"\n",
    "\n",
    "Solution=Solution()\n",
    "print(Solution.alienOrder([\"wrt\",\"wrf\",\"er\",\"ett\",\"rftt\"]))"
   ]
  }
 ],
 "metadata": {
  "interpreter": {
   "hash": "ad2bdc8ecc057115af97d19610ffacc2b4e99fae6737bb82f5d7fb13d2f2c186"
  },
  "kernelspec": {
   "display_name": "Python 3.9.7 ('base')",
   "language": "python",
   "name": "python3"
  },
  "language_info": {
   "codemirror_mode": {
    "name": "ipython",
    "version": 3
   },
   "file_extension": ".py",
   "mimetype": "text/x-python",
   "name": "python",
   "nbconvert_exporter": "python",
   "pygments_lexer": "ipython3",
   "version": "3.9.7"
  },
  "orig_nbformat": 4
 },
 "nbformat": 4,
 "nbformat_minor": 2
}
