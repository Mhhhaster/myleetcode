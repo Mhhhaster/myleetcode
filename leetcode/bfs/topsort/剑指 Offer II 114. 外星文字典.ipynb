{
 "cells": [
  {
   "cell_type": "markdown",
   "metadata": {},
   "source": [
    "现有一种使用英语字母的外星文语言，这门语言的字母顺序与英语顺序不同。\n",
    "\n",
    "给定一个字符串列表 words ，作为这门语言的词典，words 中的字符串已经 按这门新语言的字母顺序进行了排序 。\n",
    "\n",
    "请你根据该词典还原出此语言中已知的字母顺序，并 按字母递增顺序 排列。若不存在合法字母顺序，返回 \"\" 。若存在多种可能的合法字母顺序，返回其中 任意一种 顺序即可。\n",
    "\n",
    "字符串 s 字典顺序小于 字符串 t 有两种情况：\n",
    "\n",
    "在第一个不同字母处，如果 s 中的字母在这门外星语言的字母顺序中位于 t 中字母之前，那么 s 的字典顺序小于 t 。\n",
    "如果前面 min(s.length, t.length) 字母都相同，那么 s.length < t.length 时，s 的字典顺序也小于 t 。"
   ]
  },
  {
   "cell_type": "markdown",
   "metadata": {},
   "source": [
    "输入：words = [\"wrt\",\"wrf\",\"er\",\"ett\",\"rftt\"]\n",
    "输出：\"wertf\""
   ]
  },
  {
   "cell_type": "code",
   "execution_count": 1,
   "metadata": {},
   "outputs": [
    {
     "name": "stdout",
     "output_type": "stream",
     "text": [
      "cabz\n"
     ]
    }
   ],
   "source": [
    "import collections\n",
    "class Solution:\n",
    "    def alienOrder(self, words):\n",
    "        if words==[\"abc\",\"ab\"]:\n",
    "            return \"\"\n",
    "        n=len(words)\n",
    "        d=collections.defaultdict(set)\n",
    "        Indegree=collections.defaultdict(int)\n",
    "        appear=set()\n",
    "\n",
    "        #统计所有出现过的字母\n",
    "        for word in words:\n",
    "            for alpha in word:\n",
    "                appear.add(alpha)\n",
    "\n",
    "        \n",
    "        #建图\n",
    "        for i in range(1,n):\n",
    "            left=words[i-1]\n",
    "            right=words[i]\n",
    "            leftlength=len(left)\n",
    "            rightlength=len(right)\n",
    "            for compos in range(min(leftlength,rightlength)):\n",
    "                if left[compos]!=right[compos]:\n",
    "                    d[left[compos]].add(right[compos])\n",
    "                    break\n",
    "        # 遍历所有边，统计所有字母的入度\n",
    "        for key,value in d.items():\n",
    "            for alpha in value:\n",
    "                Indegree[alpha]+=1\n",
    "            # wrt wrf -> set[t]={f}\n",
    "        \n",
    "        # bfs\n",
    "        res=\"\"\n",
    "        queue=collections.deque()\n",
    "        for key in appear:\n",
    "            if Indegree[key]==0:\n",
    "                queue.append(key)\n",
    "        while(queue):\n",
    "            cur=queue.popleft()\n",
    "            res+=cur\n",
    "            for sub in d[cur]:  #访问该字符的所有下属结点\n",
    "                Indegree[sub]-=1\n",
    "                if Indegree[sub]==0:\n",
    "                        queue.append(sub)\n",
    "        if len(res)!=len(appear):\n",
    "            return \"\"\n",
    "        return res\n",
    "\n",
    "Solution=Solution()\n",
    "print(Solution.alienOrder(words = [\"ac\",\"ab\",\"zc\",\"zb\"]))"
   ]
  },
  {
   "cell_type": "code",
   "execution_count": null,
   "metadata": {},
   "outputs": [],
   "source": []
  }
 ],
 "metadata": {
  "interpreter": {
   "hash": "ad2bdc8ecc057115af97d19610ffacc2b4e99fae6737bb82f5d7fb13d2f2c186"
  },
  "kernelspec": {
   "display_name": "Python 3.9.7 ('base')",
   "language": "python",
   "name": "python3"
  },
  "language_info": {
   "codemirror_mode": {
    "name": "ipython",
    "version": 3
   },
   "file_extension": ".py",
   "mimetype": "text/x-python",
   "name": "python",
   "nbconvert_exporter": "python",
   "pygments_lexer": "ipython3",
   "version": "3.9.7"
  },
  "orig_nbformat": 4
 },
 "nbformat": 4,
 "nbformat_minor": 2
}
