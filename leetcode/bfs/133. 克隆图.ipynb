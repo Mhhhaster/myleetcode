{
 "cells": [
  {
   "cell_type": "code",
   "execution_count": 7,
   "metadata": {},
   "outputs": [
    {
     "ename": "IndentationError",
     "evalue": "expected an indented block (Temp/ipykernel_21580/57275832.py, line 31)",
     "output_type": "error",
     "traceback": [
      "\u001b[1;36m  File \u001b[1;32m\"C:\\Users\\Maste\\AppData\\Local\\Temp/ipykernel_21580/57275832.py\"\u001b[1;36m, line \u001b[1;32m31\u001b[0m\n\u001b[1;33m    def getedges(nodes):\u001b[0m\n\u001b[1;37m                        ^\u001b[0m\n\u001b[1;31mIndentationError\u001b[0m\u001b[1;31m:\u001b[0m expected an indented block\n"
     ]
    }
   ],
   "source": [
    "\"\"\"\n",
    "# Definition for a Node.\n",
    "class Node(object):\n",
    "    def __init__(self, val = 0, neighbors = None):\n",
    "        self.val = val\n",
    "        self.neighbors = neighbors if neighbors is not None else []\n",
    "\"\"\"\n",
    "import collections\n",
    "class Solution(object):\n",
    "    def cloneGraph(self, node):\n",
    "        \"\"\"\n",
    "        :type node: Node\n",
    "        :rtype: Node\n",
    "        \"\"\"\n",
    "        if node==None:\n",
    "            return node\n",
    "        old2new={}\n",
    "\n",
    "        def getnodes(node):\n",
    "            queue=collections.deque([node])\n",
    "            visited= [node]\n",
    "            while queue:\n",
    "                cur=queue.popleft()\n",
    "                for neighbor in cur.neighbors:\n",
    "                    if neighbor in visited:\n",
    "                        continue\n",
    "                    visited.append(neighbor)\n",
    "                    queue.append(neighbor)\n",
    "            return visited\n",
    "\n",
    "        nodes=getnodes(node)\n",
    "        \n",
    "        def copynodes(nodes):\n",
    "            for node in nodes:\n",
    "                old2new[node]=Node(node.val)\n",
    "        \n",
    "        copynodes(nodes)\n",
    "\n",
    "        def copyedges():\n",
    "            for node in nodes:\n",
    "                newnode=old2new[node]\n",
    "                for neighbor in node.neighbors:\n",
    "                    newnode.neighbors.append(old2new[neighbor])\n",
    "        \n",
    "        copyedges()\n",
    "        return old2new[node]\n"
   ]
  },
  {
   "cell_type": "code",
   "execution_count": null,
   "metadata": {},
   "outputs": [],
   "source": [
    "class Solution(object):\n",
    "\n",
    "    def __init__(self):\n",
    "        self.visited = {}   #全局维护一个哈希表，在递归函数外建立\n",
    "\n",
    "    def cloneGraph(self, node):\n",
    "        \"\"\"\n",
    "        :type node: Node\n",
    "        :rtype: Node\n",
    "        \"\"\"\n",
    "        if not node:\n",
    "            return node\n",
    "\n",
    "        # 如果该节点已经被访问过了，则直接从哈希表中取出对应的克隆节点返回\n",
    "        if node in self.visited:\n",
    "            return self.visited[node]\n",
    "\n",
    "        # 克隆节点，注意到为了深拷贝我们不会克隆它的邻居的列表\n",
    "        clone_node = Node(node.val, [])\n",
    "\n",
    "        # 哈希表存储\n",
    "        self.visited[node] = clone_node\n",
    "\n",
    "        # 遍历该节点的邻居并更新克隆节点的邻居列表\n",
    "        if node.neighbors:\n",
    "            for neighbor in node.neighbors:\n",
    "                cloneneighbor =self.cloneGraph(neighbor)\n",
    "                clone_node.neighbors.append(cloneneighbor)\n",
    "        #递归函数返回一定要是其本身或者替身，方便赋值\n",
    "        return clone_node\n"
   ]
  }
 ],
 "metadata": {
  "interpreter": {
   "hash": "ad2bdc8ecc057115af97d19610ffacc2b4e99fae6737bb82f5d7fb13d2f2c186"
  },
  "kernelspec": {
   "display_name": "Python 3.9.7 ('base')",
   "language": "python",
   "name": "python3"
  },
  "language_info": {
   "codemirror_mode": {
    "name": "ipython",
    "version": 3
   },
   "file_extension": ".py",
   "mimetype": "text/x-python",
   "name": "python",
   "nbconvert_exporter": "python",
   "pygments_lexer": "ipython3",
   "version": "3.9.7"
  },
  "orig_nbformat": 4
 },
 "nbformat": 4,
 "nbformat_minor": 2
}
