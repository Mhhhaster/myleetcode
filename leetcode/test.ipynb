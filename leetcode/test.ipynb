{
 "cells": [
  {
   "cell_type": "code",
   "execution_count": 4,
   "metadata": {},
   "outputs": [],
   "source": [
    "import cv2\n",
    "import numpy as np\n",
    "\n",
    "# 原始图片数据\n",
    "img_data = cv2.imread(\"/Users/yangtzeliao/Documents/GitHub/myleetcode/leetcode/pic1.png\")\n",
    "\n",
    "# 文本框坐标数组\n",
    "polygons = np.array([[10, 10, 100, 10, 100, 100, 10, 100],\n",
    "                     [200, 200, 300, 200, 300, 300, 200, 300],\n",
    "                     [400, 400, 500, 400, 500, 500, 400, 500]])\n",
    "\n",
    "# 将polygons数组转换为numpy数组，并将其形状改为(N, 4, 2)\n",
    "polygons = polygons.reshape(-1, 4, 2)\n",
    "\n",
    "# 裁剪后的文本框列表\n",
    "cropped_boxes = []\n",
    "\n",
    "# 循环遍历每个文本框\n",
    "for box in polygons:\n",
    "    # 计算变换矩阵M\n",
    "    src_pts = np.float32(box)\n",
    "    dst_pts = np.float32([[0, 0], [100, 0], [100, 100], [0, 100]]) #\n",
    "    M = cv2.getPerspectiveTransform(src_pts, dst_pts) #\n",
    "\n",
    "    # 使用warpPerspective函数将文本框区域裁剪出来\n",
    "    cropped_box = cv2.warpPerspective(img_data, M, (100, 100))\n",
    "\n",
    "    # 将裁剪后的文本框添加到列表中\n",
    "    cropped_boxes.append(cropped_box)\n",
    "\n",
    "# 显示裁剪后的文本框\n",
    "for cropped_box in cropped_boxes:\n",
    "    cv2.imshow(\"Cropped Box\", cropped_box)\n",
    "    cv2.waitKey(0)\n"
   ]
  }
 ],
 "metadata": {
  "kernelspec": {
   "display_name": "academic",
   "language": "python",
   "name": "python3"
  },
  "language_info": {
   "codemirror_mode": {
    "name": "ipython",
    "version": 3
   },
   "file_extension": ".py",
   "mimetype": "text/x-python",
   "name": "python",
   "nbconvert_exporter": "python",
   "pygments_lexer": "ipython3",
   "version": "3.8.16"
  },
  "orig_nbformat": 4
 },
 "nbformat": 4,
 "nbformat_minor": 2
}
