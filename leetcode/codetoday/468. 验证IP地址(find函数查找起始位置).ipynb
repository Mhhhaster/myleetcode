{
 "cells": [
  {
   "cell_type": "markdown",
   "metadata": {},
   "source": [
    "输入：queryIP = \"172.16.254.1\"\n",
    "输出：\"IPv4\"\n",
    "解释：有效的 IPv4 地址，返回 \"IPv4\"\n",
    "示例 2："
   ]
  },
  {
   "cell_type": "markdown",
   "metadata": {},
   "source": [
    "需要掌握：isdecimal();isdigit();split('x');not in +list[]"
   ]
  },
  {
   "cell_type": "code",
   "execution_count": null,
   "metadata": {},
   "outputs": [],
   "source": [
    "class Solution:\n",
    "    def validIPAddress(self, queryIP: str) -> str:\n",
    "        if queryIP.find(\".\") != -1:\n",
    "            # IPv4\n",
    "            last = -1\n",
    "            for i in range(4):\n",
    "                cur = (len(queryIP) if i == 3 else queryIP.find(\".\", last + 1)) #从last+1位置开始查找'.'\n",
    "                if cur == -1:\n",
    "                    return \"Neither\"\n",
    "                if not 1 <= cur - last - 1 <= 3:\n",
    "                    return \"Neither\"\n",
    "                \n",
    "                addr = 0\n",
    "                for j in range(last + 1, cur):\n",
    "                    if not queryIP[j].isdigit():\n",
    "                        return \"Neither\"\n",
    "                    addr = addr * 10 + int(queryIP[j])\n",
    "                \n",
    "                if addr > 255:\n",
    "                    return \"Neither\"\n",
    "                if addr > 0 and queryIP[last + 1] == \"0\":\n",
    "                    return \"Neither\"\n",
    "                if addr == 0 and cur - last - 1 > 1:\n",
    "                    return \"Neither\"\n",
    "                \n",
    "                last = cur\n",
    "            \n",
    "            return \"IPv4\"\n",
    "        else:\n",
    "            # IPv6\n",
    "            last = -1\n",
    "            for i in range(8):\n",
    "                cur = (len(queryIP) if i == 7 else queryIP.find(\":\", last + 1))\n",
    "                if cur == -1:\n",
    "                    return \"Neither\"\n",
    "                if not 1 <= cur - last - 1 <= 4:\n",
    "                    return \"Neither\"\n",
    "\n",
    "                for j in range(last + 1, cur):\n",
    "                    if not queryIP[j].isdigit() and not(\"a\" <= queryIP[j].lower() <= \"f\"):\n",
    "                        return \"Neither\"\n",
    "                \n",
    "                last = cur\n",
    "            \n",
    "            return \"IPv6\""
   ]
  },
  {
   "cell_type": "code",
   "execution_count": null,
   "metadata": {},
   "outputs": [],
   "source": [
    "class Solution(object):\n",
    "    def validIPAddress(self, IP):\n",
    "        if '.' in IP and self.checkIPv4(IP):\n",
    "            return \"IPv4\"\n",
    "        elif ':' in IP and self.checkIPv6(IP):\n",
    "            return \"IPv6\"\n",
    "        else:\n",
    "            return \"Neither\"\n",
    "\n",
    "    def checkIPv4(self, IP):\n",
    "        numbers = IP.split('.')  #分割字符串存储为列表，再对每部分分别判断\n",
    "        if len(numbers) != 4: return False\n",
    "        for num in numbers:   #isdecimal()判断是否为十进制数字，isdigit()判断是否为数字，包括罗马数字\n",
    "            if not num or (not num.isdecimal()) or (num[0] == '0' and len(num) != 1) or int(num) > 255:\n",
    "                return False  #判断是否为空，是否为数字，是否前导零，是否超过255\n",
    "        return True\n",
    "\n",
    "    def checkIPv6(self, IP):\n",
    "        valid16 = \"0123456789abcdefABCDEF\"  #not in +字符串string\n",
    "        if \"::\" in IP: return False\n",
    "        numbers = IP.split(':')\n",
    "        if len(numbers) != 8: return False\n",
    "        for num in numbers:\n",
    "            if not num: return False\n",
    "            if len(num) >= 5: return False\n",
    "            for n in num:\n",
    "                if n not in valid16:\n",
    "                    return False\n",
    "        return True"
   ]
  }
 ],
 "metadata": {
  "language_info": {
   "name": "python"
  },
  "orig_nbformat": 4
 },
 "nbformat": 4,
 "nbformat_minor": 2
}
