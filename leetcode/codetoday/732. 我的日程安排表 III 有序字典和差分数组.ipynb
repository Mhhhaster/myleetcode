{
 "cells": [
  {
   "cell_type": "markdown",
   "metadata": {},
   "source": [
    "当 k 个日程安排有一些时间上的交叉时（例如 k 个日程安排都在同一时间内），就会产生 k 次预订。\n",
    "\n",
    "给你一些日程安排 [start, end) ，请你在每个日程安排添加后，返回一个整数 k ，表示所有先前日程安排会产生的最大 k 次预订。\n",
    "\n",
    "实现一个 MyCalendarThree 类来存放你的日程安排，你可以一直添加新的日程安排。\n",
    "\n",
    "MyCalendarThree() 初始化对象。\n",
    "int book(int start, int end) 返回一个整数 k ，表示日历中存在的 k 次预订的最大值。"
   ]
  },
  {
   "cell_type": "code",
   "execution_count": 1,
   "metadata": {},
   "outputs": [],
   "source": [
    "#问题重述：数轴上有许多区间，求区间最大重叠数\n",
    "#将区间断点从小到大排列；模拟一个点从左向右滑动，遇到左端点++，右端点--，值即为重叠数\n",
    "from sortedcontainers import SortedDict\n",
    "\n",
    "class MyCalendarThree:\n",
    "    def __init__(self):\n",
    "        self.d = SortedDict()\n",
    "\n",
    "    def book(self, start: int, end: int) -> int:\n",
    "        self.d[start] = self.d.setdefault(start, 0) + 1   #setdefault用于避免key不存在时报错\n",
    "        self.d[end] = self.d.setdefault(end, 0) - 1\n",
    "\n",
    "        ans = maxBook = 0\n",
    "        for freq in self.d.values():       #遍历一遍所有日程，计算最大日程\n",
    "            maxBook += freq\n",
    "            ans = max(ans, maxBook)\n",
    "        return ans"
   ]
  },
  {
   "cell_type": "code",
   "execution_count": null,
   "metadata": {},
   "outputs": [],
   "source": [
    "class MyCalendarThree:\n",
    "    def __init__(self):\n",
    "        self.d = collections.defaultdict(int)\n",
    "\n",
    "    def book(self, start: int, end: int) -> int:\n",
    "        self.d[start]+=1  \n",
    "        self.d[end]-=1\n",
    "        sortd=sorted(self.d.items(),key=lambda x:x[0],reverse=False)\n",
    "        ans = maxBook = 0\n",
    "        for key,freq in sortd:       #遍历一遍所有日程，计算最大日程\n",
    "            maxBook += freq\n",
    "            ans = max(ans, maxBook)\n",
    "        return ans"
   ]
  }
 ],
 "metadata": {
  "interpreter": {
   "hash": "ad2bdc8ecc057115af97d19610ffacc2b4e99fae6737bb82f5d7fb13d2f2c186"
  },
  "kernelspec": {
   "display_name": "Python 3.9.7 ('base')",
   "language": "python",
   "name": "python3"
  },
  "language_info": {
   "codemirror_mode": {
    "name": "ipython",
    "version": 3
   },
   "file_extension": ".py",
   "mimetype": "text/x-python",
   "name": "python",
   "nbconvert_exporter": "python",
   "pygments_lexer": "ipython3",
   "version": "3.9.7"
  },
  "orig_nbformat": 4
 },
 "nbformat": 4,
 "nbformat_minor": 2
}
