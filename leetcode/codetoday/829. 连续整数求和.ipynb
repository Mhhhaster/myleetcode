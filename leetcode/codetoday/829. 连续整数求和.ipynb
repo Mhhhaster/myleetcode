{
 "cells": [
  {
   "cell_type": "code",
   "execution_count": null,
   "metadata": {},
   "outputs": [],
   "source": [
    "class Solution:\n",
    "    def consecutiveNumbersSum(self, n):\n",
    "        ans=0\n",
    "        n*=2\n",
    "        first=1\n",
    "        while first*first<n:\n",
    "            if n%first==0 and (n//first+1-first)%2==0:\n",
    "                ans+=1\n",
    "            first+=1\n",
    "        return ans\n"
   ]
  }
 ],
 "metadata": {
  "language_info": {
   "name": "python"
  },
  "orig_nbformat": 4
 },
 "nbformat": 4,
 "nbformat_minor": 2
}
