{
 "cells": [
  {
   "cell_type": "markdown",
   "metadata": {},
   "source": [
    "数对 (a,b) 由整数 a 和 b 组成，其数对距离定义为 a 和 b 的绝对差值。\n",
    "\n",
    "给你一个整数数组 nums 和一个整数 k ，数对由 nums[i] 和 nums[j] 组成且满足 0 <= i < j < nums.length 。返回 所有数对距离中 第 k 小的数对距离。\n",
    "\n",
    " \n",
    "\n",
    "示例 1：\n",
    "\n",
    "输入：nums = [1,3,1], k = 1\n",
    "输出：0\n",
    "解释：数对和对应的距离如下：\n",
    "(1,3) -> 2\n",
    "(1,1) -> 0\n",
    "(3,1) -> 2\n",
    "距离第 1 小的数对是 (1,1) ，距离为 0 。"
   ]
  },
  {
   "cell_type": "code",
   "execution_count": null,
   "metadata": {
    "vscode": {
     "languageId": "plaintext"
    }
   },
   "outputs": [],
   "source": [
    "class Solution:\n",
    "    def smallestDistancePair(self, nums: List[int], k: int) -> int:\n",
    "        #函数作用：给定一个值，查找该值在数对中排第几小\n",
    "        def count(mid: int) -> int:\n",
    "            cnt = i = 0\n",
    "            for j, num in enumerate(nums):\n",
    "                while num - nums[i] > mid:\n",
    "                    i += 1\n",
    "                cnt += j - i\n",
    "            return cnt\n",
    "\n",
    "        nums.sort()\n",
    "        #原本是在每个距离中查找第k小的数\n",
    "        #现在是对每个距离计算小于等于他们的数对数目，按照k分成两堆，返回k的序号\n",
    "        #加上key=function形参后，函数作用在每一个元素上，产生的结果作为算法依赖的对比关键字，相当于一个一一映射，因此bisect_left\n",
    "        return bisect_left(range(nums[-1] - nums[0]), k, key=count)"
   ]
  }
 ],
 "metadata": {
  "language_info": {
   "name": "python"
  },
  "orig_nbformat": 4
 },
 "nbformat": 4,
 "nbformat_minor": 2
}
