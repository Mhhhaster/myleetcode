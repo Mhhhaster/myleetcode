{
 "cells": [
  {
   "cell_type": "code",
   "execution_count": null,
   "metadata": {},
   "outputs": [],
   "source": [
    "'''\n",
    "在p中找循环字符串的子串，相当于在p中找子串，满足：相邻的元素字典ASCII码相差为1\n",
    "为了防止重复，直接对每个出现的字符设置索引，value保存以该值结尾的最长字串长度\n",
    "'''\n",
    "class Solution:\n",
    "    def findSubstringInWraproundString(self, p):\n",
    "        p = '^' + p             #如果和前面的字符相差为1，说明满足条件\n",
    "        len_mapper = collections.defaultdict(lambda: 0)\n",
    "        w = 1\n",
    "        '''遍历p中每一个真实字符'''\n",
    "        for i in range(1,len(p)):\n",
    "            if ord(p[i])-ord(p[i-1]) == 1 or ord(p[i])-ord(p[i-1]) == -25:  #ord()访问字符的ASCII码\n",
    "                w += 1\n",
    "            else:\n",
    "                w = 1\n",
    "            len_mapper[p[i]] = max(len_mapper[p[i]], w)\n",
    "        return sum(len_mapper.values())"
   ]
  }
 ],
 "metadata": {
  "language_info": {
   "name": "python"
  },
  "orig_nbformat": 4
 },
 "nbformat": 4,
 "nbformat_minor": 2
}
