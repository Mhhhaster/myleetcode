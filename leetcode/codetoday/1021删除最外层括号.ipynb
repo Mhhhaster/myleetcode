{
 "cells": [
  {
   "cell_type": "code",
   "execution_count": 4,
   "metadata": {},
   "outputs": [
    {
     "name": "stdout",
     "output_type": "stream",
     "text": [
      "()()()()(())\n"
     ]
    }
   ],
   "source": [
    "class Solution(object):\n",
    "    def removeOuterParentheses(self, s):\n",
    "        \"\"\"\n",
    "        :type s: str\n",
    "        :rtype: str\n",
    "        栈每次空表示一个原语\n",
    "        \"\"\"\n",
    "        ans=\"\"\n",
    "        tempans=\"\"\n",
    "        stack=[]\n",
    "        for i in s:\n",
    "            tempans+=i\n",
    "            if i ==\"(\":\n",
    "                stack.append(i)\n",
    "            else:\n",
    "                stack.pop()\n",
    "                if len(stack)==0:\n",
    "                    ans+=tempans[1:-1]\n",
    "                    tempans=\"\"\n",
    "        return ans\n",
    "Solution=Solution()\n",
    "print(Solution.removeOuterParentheses(\"(()())(())(()(()))\"))\n"
   ]
  },
  {
   "cell_type": "code",
   "execution_count": null,
   "metadata": {},
   "outputs": [],
   "source": []
  }
 ],
 "metadata": {
  "interpreter": {
   "hash": "ad2bdc8ecc057115af97d19610ffacc2b4e99fae6737bb82f5d7fb13d2f2c186"
  },
  "kernelspec": {
   "display_name": "Python 3.9.7 ('base')",
   "language": "python",
   "name": "python3"
  },
  "language_info": {
   "codemirror_mode": {
    "name": "ipython",
    "version": 3
   },
   "file_extension": ".py",
   "mimetype": "text/x-python",
   "name": "python",
   "nbconvert_exporter": "python",
   "pygments_lexer": "ipython3",
   "version": "3.9.7"
  },
  "orig_nbformat": 4
 },
 "nbformat": 4,
 "nbformat_minor": 2
}
