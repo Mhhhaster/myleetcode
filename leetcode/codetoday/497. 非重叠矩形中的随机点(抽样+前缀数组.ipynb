{
 "cells": [
  {
   "cell_type": "code",
   "execution_count": 14,
   "metadata": {},
   "outputs": [
    {
     "data": {
      "text/plain": [
       "5"
      ]
     },
     "execution_count": 14,
     "metadata": {},
     "output_type": "execute_result"
    }
   ],
   "source": [
    "import random\n",
    "x=random.randint(4,6)\n",
    "x"
   ]
  },
  {
   "cell_type": "code",
   "execution_count": null,
   "metadata": {},
   "outputs": [],
   "source": [
    "class Solution:\n",
    "\n",
    "    def __init__(self, rects: List[List[int]]):\n",
    "        self.points=[0]  #  0 , 第一个矩形点数s1,前两个矩形点数s1+s2 .....\n",
    "        self.rects=rects\n",
    "        for a,b,x,y in rects:\n",
    "            self.points.append(self.points[-1]+(x-a+1)*(y-b+1))\n",
    "\n",
    "    def pick(self) -> List[int]:\n",
    "        pointnum=self.points[-1]\n",
    "        index=random.randint(1,pointnum)\n",
    "        rectindex=bisect_left(self.points,index)-1\n",
    "        a,b,x,y=self.rects[rectindex]\n",
    "        return [random.randint(a,x),random.randint(b,y)]\n"
   ]
  }
 ],
 "metadata": {
  "interpreter": {
   "hash": "ad2bdc8ecc057115af97d19610ffacc2b4e99fae6737bb82f5d7fb13d2f2c186"
  },
  "kernelspec": {
   "display_name": "Python 3.9.7 ('base')",
   "language": "python",
   "name": "python3"
  },
  "language_info": {
   "codemirror_mode": {
    "name": "ipython",
    "version": 3
   },
   "file_extension": ".py",
   "mimetype": "text/x-python",
   "name": "python",
   "nbconvert_exporter": "python",
   "pygments_lexer": "ipython3",
   "version": "3.9.7"
  },
  "orig_nbformat": 4
 },
 "nbformat": 4,
 "nbformat_minor": 2
}
