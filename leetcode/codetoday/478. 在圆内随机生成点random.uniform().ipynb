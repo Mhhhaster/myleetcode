{
 "cells": [
  {
   "cell_type": "markdown",
   "metadata": {},
   "source": [
    "给定圆的半径和圆心的位置，实现函数 randPoint ，在圆中产生均匀随机点。\n",
    "\n",
    "实现 Solution 类:\n",
    "\n",
    "Solution(double radius, double x_center, double y_center) 用圆的半径 radius 和圆心的位置 (x_center, y_center) 初始化对象\n",
    "randPoint() 返回圆内的一个随机点。圆周上的一点被认为在圆内。答案作为数组返回 [x, y] 。\n",
    " \n",
    "\n",
    "示例 1：\n",
    "\n",
    "输入: \n",
    "[\"Solution\",\"randPoint\",\"randPoint\",\"randPoint\"]\n",
    "[[1.0, 0.0, 0.0], [], [], []]\n",
    "输出: [null, [-0.02493, -0.38077], [0.82314, 0.38945], [0.36572, 0.17248]]\n",
    "解释:\n",
    "Solution solution = new Solution(1.0, 0.0, 0.0);\n",
    "solution.randPoint ();//返回[-0.02493，-0.38077]\n",
    "solution.randPoint ();//返回[0.82314,0.38945]\n",
    "solution.randPoint ();//返回[0.36572,0.17248]"
   ]
  },
  {
   "cell_type": "code",
   "execution_count": 12,
   "metadata": {},
   "outputs": [
    {
     "name": "stdout",
     "output_type": "stream",
     "text": [
      "[0.1844326980419011, 0.8633994741604027]\n",
      "[-0.6380705241191942, 0.35032787756152306]\n",
      "[-0.6890097045824026, 0.06168372052664162]\n"
     ]
    }
   ],
   "source": [
    "# 拒绝采样：在圆的正方形内采样，排除不合要求的\n",
    "# random.uniform(a, b)生成随机数\n",
    "import random\n",
    "from typing import List\n",
    "class Solution:\n",
    "\n",
    "    def __init__(self, radius: float, x_center: float, y_center: float):\n",
    "        self.xc = x_center\n",
    "        self.yc = y_center\n",
    "        self.r = radius\n",
    "\n",
    "    def randPoint(self) -> List[float]:\n",
    "        while True:\n",
    "            x, y = random.uniform(-self.r, self.r), random.uniform(-self.r, self.r)\n",
    "            if x * x + y * y <= self.r * self.r:\n",
    "                return [self.xc + x, self.yc + y]\n",
    "\n",
    "Solution=Solution(1,0,0)\n",
    "print(Solution.randPoint ())\n",
    "print(Solution.randPoint ())\n",
    "print(Solution.randPoint ())"
   ]
  },
  {
   "cell_type": "code",
   "execution_count": 16,
   "metadata": {},
   "outputs": [
    {
     "name": "stdout",
     "output_type": "stream",
     "text": [
      "[0.7237711777210621, -0.5514950057603071]\n",
      "[0.7798233729261261, 0.5086548383756226]\n",
      "[-0.7130278165304292, -0.07178624285784056]\n"
     ]
    }
   ],
   "source": [
    "\n",
    "import math\n",
    "class Solution:\n",
    "\n",
    "    def __init__(self, radius: float, x_center: float, y_center: float):\n",
    "        self.xc = x_center\n",
    "        self.yc = y_center\n",
    "        self.r = radius\n",
    "\n",
    "    def randPoint(self) -> List[float]:\n",
    "        u, theta = random.random(), random.random() * 2 * math.pi\n",
    "        r = math.sqrt(u)\n",
    "        return [self.xc + r * math.cos(theta) * self.r, self.yc + r * math.sin(theta) * self.r]\n",
    "\n",
    "Solution=Solution(1,0,0)\n",
    "print(Solution.randPoint ())\n",
    "print(Solution.randPoint ())\n",
    "print(Solution.randPoint ())"
   ]
  }
 ],
 "metadata": {
  "interpreter": {
   "hash": "ad2bdc8ecc057115af97d19610ffacc2b4e99fae6737bb82f5d7fb13d2f2c186"
  },
  "kernelspec": {
   "display_name": "Python 3.9.7 ('base')",
   "language": "python",
   "name": "python3"
  },
  "language_info": {
   "codemirror_mode": {
    "name": "ipython",
    "version": 3
   },
   "file_extension": ".py",
   "mimetype": "text/x-python",
   "name": "python",
   "nbconvert_exporter": "python",
   "pygments_lexer": "ipython3",
   "version": "3.9.7"
  },
  "orig_nbformat": 4
 },
 "nbformat": 4,
 "nbformat_minor": 2
}
