{
 "cells": [
  {
   "cell_type": "markdown",
   "metadata": {},
   "source": [
    "给定一个整数数组和一个整数 k，你需要在数组里找到 不同的 k-diff 数对，并返回不同的 k-diff 数对 的数目。\n",
    "\n",
    "这里将 k-diff 数对定义为一个整数对 (nums[i], nums[j])，并满足下述全部条件：\n",
    "\n",
    "0 <= i < j < nums.length\n",
    "|nums[i] - nums[j]| == k\n",
    "注意，|val| 表示 val 的绝对值。\n",
    "\n"
   ]
  },
  {
   "cell_type": "code",
   "execution_count": null,
   "metadata": {},
   "outputs": [],
   "source": [
    "class Solution:\n",
    "    def findPairs(self, nums: List[int], k: int) -> int:\n",
    "        nums.sort()\n",
    "        n=len(nums)\n",
    "        right=0\n",
    "        ans=0\n",
    "        for left in range(n-1):\n",
    "            if left==0 or nums[left]!=nums[left-1]:\n",
    "                while(right<n and (nums[right]-nums[left]<k or left>=right)): #right不够大，就循环++\n",
    "                    right+=1\n",
    "                if right!=n and nums[right]-nums[left]==k:\n",
    "                    ans+=1\n",
    "        return ans\n",
    "            "
   ]
  }
 ],
 "metadata": {
  "language_info": {
   "name": "python"
  },
  "orig_nbformat": 4
 },
 "nbformat": 4,
 "nbformat_minor": 2
}
