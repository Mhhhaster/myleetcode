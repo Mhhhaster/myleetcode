{
 "cells": [
  {
   "cell_type": "code",
   "execution_count": 3,
   "metadata": {},
   "outputs": [
    {
     "name": "stdout",
     "output_type": "stream",
     "text": [
      "3\n"
     ]
    }
   ],
   "source": [
    "class Solution(object):\n",
    "    def findClosest(self, words, word1, word2):\n",
    "        \"\"\"\n",
    "        :type words: List[str]\n",
    "        :type word1: str\n",
    "        :type word2: str\n",
    "        :rtype: int\n",
    "        维护一个最小距离，和上一次遇到word1、word2时的位置，每遍历到word1时计算word2......\n",
    "        \"\"\"\n",
    "        mindist=float('inf')\n",
    "        index1=index2=float('-inf')\n",
    "        for i in range(len(words)):\n",
    "            if words[i]==word1:\n",
    "                index1=i\n",
    "                mindist=min(mindist,index1-index2)\n",
    "            if words[i]==word2:\n",
    "                index2=i\n",
    "                mindist=min(mindist,index2-index1)\n",
    "        return mindist\n",
    "Solution=Solution()\n",
    "print(Solution.findClosest([\"practice\", \"makes\", \"perfect\", \"coding\", \"makes\"], \"coding\", \"practice\"))"
   ]
  },
  {
   "cell_type": "code",
   "execution_count": 8,
   "metadata": {},
   "outputs": [
    {
     "name": "stdout",
     "output_type": "stream",
     "text": [
      "defaultdict(<class 'list'>, {'a': [2, 5, 8], 'student': [3]})\n"
     ]
    }
   ],
   "source": [
    "#用列表维护\n",
    "import collections\n",
    "class Solution(object):\n",
    "    def findClosest(self, words, word1, word2):\n",
    "        \"\"\"\n",
    "        :type words: List[str]\n",
    "        :type word1: str\n",
    "        :type word2: str\n",
    "        :rtype: int\n",
    "        维护一个最小距离，和上一次遇到word1、word2时的位置，每遍历到word1时计算word2......\n",
    "        \"\"\"\n",
    "        indexlist=collections.defaultdict(list)\n",
    "        for i in range(len(words)):\n",
    "            if words[i]==word1:\n",
    "                indexlist[word1].append(i)\n",
    "            if words[i]==word2:\n",
    "                indexlist[word2].append(i)\n",
    "        return indexlist\n",
    "Solution=Solution()\n",
    "print(Solution.findClosest([\"I\",\"am\",\"a\",\"student\",\"from\",\"a\",\"university\",\"in\",\"a\",\"city\"], \"a\", \"student\"))"
   ]
  }
 ],
 "metadata": {
  "interpreter": {
   "hash": "ad2bdc8ecc057115af97d19610ffacc2b4e99fae6737bb82f5d7fb13d2f2c186"
  },
  "kernelspec": {
   "display_name": "Python 3.9.7 ('base')",
   "language": "python",
   "name": "python3"
  },
  "language_info": {
   "codemirror_mode": {
    "name": "ipython",
    "version": 3
   },
   "file_extension": ".py",
   "mimetype": "text/x-python",
   "name": "python",
   "nbconvert_exporter": "python",
   "pygments_lexer": "ipython3",
   "version": "3.9.7"
  },
  "orig_nbformat": 4
 },
 "nbformat": 4,
 "nbformat_minor": 2
}
