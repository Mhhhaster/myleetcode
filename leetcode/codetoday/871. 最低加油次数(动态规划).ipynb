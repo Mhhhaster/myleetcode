{
 "cells": [
  {
   "cell_type": "code",
   "execution_count": 11,
   "metadata": {},
   "outputs": [
    {
     "name": "stdout",
     "output_type": "stream",
     "text": [
      "3\n"
     ]
    }
   ],
   "source": [
    "class Solution(object):\n",
    "    def minRefuelStops(self, target, startFuel, stations):\n",
    "        \"\"\"\n",
    "        :type target: int\n",
    "        :type startFuel: int\n",
    "        :type stations: List[List[int]]\n",
    "        :rtype: int\n",
    "        \"\"\"\n",
    "        n=len(stations)\n",
    "        stations.append([target,0])\n",
    "        res=1000\n",
    "        def dfs(tempfuel,index,stationsum):\n",
    "            nonlocal res\n",
    "            distance=stations[index][0]\n",
    "            if tempfuel<distance:\n",
    "                return\n",
    "            if distance==target:\n",
    "                if(stationsum<res):\n",
    "                    res=stationsum\n",
    "            if index<n:\n",
    "                dfs(tempfuel,index+1,stationsum)\n",
    "                dfs(tempfuel+stations[index][1],index+1,stationsum+1)\n",
    "        dfs(startFuel,0,0)\n",
    "        return res if res!=1000 else -1\n",
    "\n",
    "Solution=Solution()\n",
    "print(Solution.minRefuelStops(1000,75,[[4,192],[17,204],[53,373],[168,348],[188,403],[197,390],[237,201],[260,175],[307,191],[316,263],[322,242],[378,285],[412,459],[432,179],[448,281],[529,96],[557,285],[662,292],[800,339],[816,226],[875,69],[897,176],[899,138],[929,94],[941,463]]))"
   ]
  }
 ],
 "metadata": {
  "kernelspec": {
   "display_name": "Python 3.8.9 64-bit",
   "language": "python",
   "name": "python3"
  },
  "language_info": {
   "codemirror_mode": {
    "name": "ipython",
    "version": 3
   },
   "file_extension": ".py",
   "mimetype": "text/x-python",
   "name": "python",
   "nbconvert_exporter": "python",
   "pygments_lexer": "ipython3",
   "version": "3.8.9"
  },
  "orig_nbformat": 4,
  "vscode": {
   "interpreter": {
    "hash": "31f2aee4e71d21fbe5cf8b01ff0e069b9275f58929596ceb00d14d90e3e16cd6"
   }
  }
 },
 "nbformat": 4,
 "nbformat_minor": 2
}
