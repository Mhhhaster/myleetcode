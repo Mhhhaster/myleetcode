{
 "cells": [
  {
   "cell_type": "code",
   "execution_count": null,
   "metadata": {},
   "outputs": [],
   "source": [
    "# Definition for a binary tree node.\n",
    "# class TreeNode(object):\n",
    "#     def __init__(self, val=0, left=None, right=None):\n",
    "#         self.val = val\n",
    "#         self.left = left\n",
    "#         self.right = right\n",
    "class Solution(object):\n",
    "    def isUnivalTree(self, root):\n",
    "        \"\"\"\n",
    "        :type root: TreeNode\n",
    "        :rtype: bool\n",
    "        \"\"\"\n",
    "        if root.left !=None:\n",
    "            if root.left.val!=root.val:\n",
    "                leftans= False\n",
    "            else:\n",
    "                leftans=self.isUnivalTree(root.left)\n",
    "        else:\n",
    "            leftans=True\n",
    "        if root.right !=None:\n",
    "            if root.right.val!=root.val:\n",
    "                rightans= False\n",
    "            else:\n",
    "                rightans=self.isUnivalTree(root.right)\n",
    "        else:\n",
    "            rightans=True\n",
    "        #return True if leftans==True and rightans==True else False   #python的三目替代\n",
    "        return leftans and rightans\n",
    "\n",
    "'''\n",
    "判断本节点是否满足要求：\n",
    "左空？左符合?\n",
    "非空？递进下一层\n",
    "右同\n",
    "返回值等于左返回值并右返回值\n",
    "'''"
   ]
  }
 ],
 "metadata": {
  "language_info": {
   "name": "python"
  },
  "orig_nbformat": 4
 },
 "nbformat": 4,
 "nbformat_minor": 2
}
