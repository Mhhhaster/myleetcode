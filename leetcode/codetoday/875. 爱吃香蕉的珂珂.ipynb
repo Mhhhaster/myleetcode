{
 "cells": [
  {
   "cell_type": "markdown",
   "metadata": {},
   "source": [
    "珂珂喜欢吃香蕉。这里有 n 堆香蕉，第 i 堆中有 piles[i] 根香蕉。警卫已经离开了，将在 h 小时后回来。\n",
    "\n",
    "珂珂可以决定她吃香蕉的速度 k （单位：根/小时）。每个小时，她将会选择一堆香蕉，从中吃掉 k 根。如果这堆香蕉少于 k 根，她将吃掉这堆的所有香蕉，然后这一小时内不会再吃更多的香蕉。  \n",
    "\n",
    "珂珂喜欢慢慢吃，但仍然想在警卫回来前吃掉所有的香蕉。\n",
    "\n",
    "返回她可以在 h 小时内吃掉所有香蕉的最小速度 k（k 为整数）。\n",
    "\n",
    " \n",
    "\n",
    "示例 1：\n",
    "\n",
    "输入：piles = [3,6,7,11], h = 8\n",
    "输出：4"
   ]
  },
  {
   "cell_type": "code",
   "execution_count": 6,
   "metadata": {},
   "outputs": [
    {
     "name": "stdout",
     "output_type": "stream",
     "text": [
      "23\n"
     ]
    }
   ],
   "source": [
    "class Solution(object):\n",
    "    def minEatingSpeed(self, piles, h):\n",
    "        #return bisect_left(range(max(piles)), -h, 1, key=lambda k: -sum((pile + k - 1) // k for pile in piles))\n",
    "        #return bisect_left(有序列表[1.....n], -h, 1, key=lambda k: -sum((pile + k - 1) // k for pile in piles))\n",
    "        \"\"\"\n",
    "        :type piles: List[int]\n",
    "        :type h: int\n",
    "        :rtype: int\n",
    "        \"\"\"\n",
    "        def gethours(speed):\n",
    "            hours=0\n",
    "            for i in piles:\n",
    "                hours+=(i+speed-1)//speed\n",
    "            return hours\n",
    "        \n",
    "        left=1\n",
    "        right=max(piles)\n",
    "        while left<right:\n",
    "            mid=(left+right)//2\n",
    "            hours=gethours(mid)\n",
    "            if hours<=h:  #在这个速度下，可以吃完\n",
    "                right=mid\n",
    "            else:        #在这个速度下吃不完，需要提速\n",
    "                left=mid+1\n",
    "\n",
    "        return left\n",
    "\n",
    "Solution=Solution()\n",
    "print(Solution.minEatingSpeed([30,11,23,4,20], 6))"
   ]
  }
 ],
 "metadata": {
  "interpreter": {
   "hash": "ad2bdc8ecc057115af97d19610ffacc2b4e99fae6737bb82f5d7fb13d2f2c186"
  },
  "kernelspec": {
   "display_name": "Python 3.9.7 ('base')",
   "language": "python",
   "name": "python3"
  },
  "language_info": {
   "codemirror_mode": {
    "name": "ipython",
    "version": 3
   },
   "file_extension": ".py",
   "mimetype": "text/x-python",
   "name": "python",
   "nbconvert_exporter": "python",
   "pygments_lexer": "ipython3",
   "version": "3.9.7"
  },
  "orig_nbformat": 4
 },
 "nbformat": 4,
 "nbformat_minor": 2
}
