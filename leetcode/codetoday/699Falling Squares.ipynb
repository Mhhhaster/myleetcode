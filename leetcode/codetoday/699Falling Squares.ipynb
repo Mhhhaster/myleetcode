{
 "cells": [
  {
   "cell_type": "markdown",
   "metadata": {},
   "source": [
    "Input: positions = [[1,2],[2,3],[6,1]]\n",
    "Output: [2,5,5]"
   ]
  },
  {
   "cell_type": "code",
   "execution_count": 8,
   "metadata": {},
   "outputs": [
    {
     "data": {
      "text/plain": [
       "[2, 5, 5]"
      ]
     },
     "execution_count": 8,
     "metadata": {},
     "output_type": "execute_result"
    }
   ],
   "source": [
    "class Solution(object):\n",
    "    def fallingSquares(self, positions):\n",
    "        \"\"\"\n",
    "        :type positions: List[List[int]]\n",
    "        :rtype: List[int]\n",
    "        \"\"\"\n",
    "        n=len(positions)\n",
    "        height=[]\n",
    "        for i in range(n):  \n",
    "            left=positions[i][0]\n",
    "            right=positions[i][0]+positions[i][1]\n",
    "            height.append(positions[i][1])\n",
    "            for j in range(i):\n",
    "                left1=positions[j][0]\n",
    "                right1=positions[j][0]+positions[j][1]\n",
    "                if right1>left and left1<right:\n",
    "                    if height[i]<height[j]+positions[i][1]:\n",
    "                        height[i]=height[j]+positions[i][1]\n",
    "        for i in range(1,n):\n",
    "            height[i]=max(height[i],height[i-1])\n",
    "        return height\n",
    "\n",
    "Solution=Solution()\n",
    "ans=Solution.fallingSquares([[1,2],[2,3],[6,1]])\n",
    "ans"
   ]
  }
 ],
 "metadata": {
  "interpreter": {
   "hash": "2465b60ae442ca0ac5a56a77e0f5b01a711967d027f4da028744badbbb9ec395"
  },
  "kernelspec": {
   "display_name": "Python 3.9.12 ('base')",
   "language": "python",
   "name": "python3"
  },
  "language_info": {
   "codemirror_mode": {
    "name": "ipython",
    "version": 3
   },
   "file_extension": ".py",
   "mimetype": "text/x-python",
   "name": "python",
   "nbconvert_exporter": "python",
   "pygments_lexer": "ipython3",
   "version": "3.9.12"
  },
  "orig_nbformat": 4
 },
 "nbformat": 4,
 "nbformat_minor": 2
}
