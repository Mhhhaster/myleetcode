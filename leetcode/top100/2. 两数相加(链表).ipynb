{
 "cells": [
  {
   "cell_type": "markdown",
   "metadata": {},
   "source": [
    "给你两个 非空 的链表，表示两个非负的整数。它们每位数字都是按照 逆序 的方式存储的，并且每个节点只能存储 一位 数字。\n",
    "\n",
    "请你将两个数相加，并以相同形式返回一个表示和的链表。\n",
    "\n",
    "你可以假设除了数字 0 之外，这两个数都不会以 0 开头。"
   ]
  },
  {
   "cell_type": "code",
   "execution_count": 9,
   "metadata": {},
   "outputs": [
    {
     "data": {
      "text/plain": [
       "[8, 9, 9, 9, 0, 0, 0, 1]"
      ]
     },
     "execution_count": 9,
     "metadata": {},
     "output_type": "execute_result"
    }
   ],
   "source": [
    "# Definition for singly-linked list.\n",
    "# class ListNode:\n",
    "#     def __init__(self, val=0, next=None):\n",
    "#         self.val = val\n",
    "#         self.next = next\n",
    "class Solution:\n",
    "    def addTwoNumbers(self, l1,l2): \n",
    "        n1,n2=len(l1),len(l2)\n",
    "        maxl=max(n1,n2)\n",
    "        for _ in range(n1,maxl):\n",
    "            l1.append(0)\n",
    "        for _ in range(n2,maxl):\n",
    "            l2.append(0)\n",
    "        ans=[]\n",
    "        last=0\n",
    "        for i in range(maxl):\n",
    "            tempsum=l1[i]+l2[i]+last\n",
    "            if tempsum>9:\n",
    "                tempsum=tempsum-10\n",
    "                last=1\n",
    "            else:\n",
    "                last=0\n",
    "            ans.append(tempsum)\n",
    "        if last:\n",
    "            ans.append(1)\n",
    "        return ans\n",
    "\n",
    "    def addTwoNumbers2(self, l1,l2):\n",
    "        ans=[]\n",
    "        last=0\n",
    "        while l1 or l2:\n",
    "            if l1:\n",
    "                tempsum=l1.val+last\n",
    "                l1=l1.next\n",
    "            else:\n",
    "                tempsum=l2.val+last\n",
    "                l2=l2.next\n",
    "            if tempsum>9:\n",
    "                tempsum=tempsum-10\n",
    "                last=1\n",
    "            else:\n",
    "                last=0\n",
    "            ans.append(tempsum)\n",
    "        if last:\n",
    "            ans.append(1)\n",
    "        return ans\n",
    "\n",
    "Solution().addTwoNumbers(l1 = [9,9,9,9,9,9,9], l2 = [9,9,9,9])\n",
    "\n"
   ]
  },
  {
   "cell_type": "code",
   "execution_count": null,
   "metadata": {},
   "outputs": [],
   "source": []
  }
 ],
 "metadata": {
  "kernelspec": {
   "display_name": "Python 3.8.9 64-bit",
   "language": "python",
   "name": "python3"
  },
  "language_info": {
   "codemirror_mode": {
    "name": "ipython",
    "version": 3
   },
   "file_extension": ".py",
   "mimetype": "text/x-python",
   "name": "python",
   "nbconvert_exporter": "python",
   "pygments_lexer": "ipython3",
   "version": "3.8.9"
  },
  "orig_nbformat": 4,
  "vscode": {
   "interpreter": {
    "hash": "31f2aee4e71d21fbe5cf8b01ff0e069b9275f58929596ceb00d14d90e3e16cd6"
   }
  }
 },
 "nbformat": 4,
 "nbformat_minor": 2
}
