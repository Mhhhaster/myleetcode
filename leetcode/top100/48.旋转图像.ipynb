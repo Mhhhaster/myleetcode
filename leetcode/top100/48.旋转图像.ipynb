{
 "cells": [
  {
   "cell_type": "code",
   "execution_count": null,
   "metadata": {},
   "outputs": [],
   "source": [
    "# 采用copy.deepcopy(matrix)深拷贝\n",
    "class Solution:\n",
    "    def rotate(self, matrix: List[List[int]]) -> None:\n",
    "        n = len(matrix)\n",
    "        # 深拷贝 matrix -> tmp\n",
    "        tmp = copy.deepcopy(matrix)\n",
    "        # 根据元素旋转公式，遍历修改原矩阵 matrix 的各元素\n",
    "        for i in range(n):\n",
    "            for j in range(n):\n",
    "                matrix[j][n - 1 - i] = tmp[i][j]\n"
   ]
  },
  {
   "cell_type": "code",
   "execution_count": null,
   "metadata": {},
   "outputs": [],
   "source": [
    "# 最后赋值的时候要加上:,否则变成引用变量名而不是变量内容\n",
    "class Solution:\n",
    "    def rotate(self, matrix: List[List[int]]) -> None:\n",
    "        \"\"\"\n",
    "        Do not return anything, modify matrix in-place instead.\n",
    "        \"\"\"\n",
    "        # （0，0）=1 （0，1）= 2 （0，2）=3\n",
    "        # ->(0,2)=1  (1,2)=2   (2,2)=3\n",
    "        # 原本i表示与x轴距离，j表示与y轴距离，旋转后j表示与x轴距离，n-i表示与y轴距离\n",
    "        n=len(matrix)\n",
    "        newmatrix=[[0]*n for _ in range(n)]\n",
    "        for i in range(n):\n",
    "            for j in range(n):\n",
    "                newmatrix[j][n-i-1]=matrix[i][j]\n",
    "        matrix[:]=newmatrix"
   ]
  }
 ],
 "metadata": {
  "language_info": {
   "name": "python"
  },
  "orig_nbformat": 4
 },
 "nbformat": 4,
 "nbformat_minor": 2
}
