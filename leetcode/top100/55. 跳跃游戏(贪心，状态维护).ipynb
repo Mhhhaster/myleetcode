{
 "cells": [
  {
   "cell_type": "markdown",
   "metadata": {},
   "source": [
    "给定一个非负整数数组 nums ，你最初位于数组的 第一个下标 。\n",
    "\n",
    "数组中的每个元素代表你在该位置可以跳跃的最大长度。\n",
    "\n",
    "判断你是否能够到达最后一个下标。\n",
    "\n",
    " \n",
    "\n",
    "示例 1：\n",
    "\n",
    "输入：nums = [2,3,1,1,4]\n",
    "输出：true\n",
    "解释：可以先跳 1 步，从下标 0 到达下标 1, 然后再从下标 1 跳 3 步到达最后一个下标。"
   ]
  },
  {
   "cell_type": "code",
   "execution_count": 1,
   "metadata": {},
   "outputs": [
    {
     "name": "stdout",
     "output_type": "stream",
     "text": [
      "False\n"
     ]
    }
   ],
   "source": [
    "class Solution(object):\n",
    "    def canJump(self, nums):\n",
    "        \"\"\"\n",
    "        :type nums: List[int]\n",
    "        :rtype: bool\n",
    "        \"\"\"\n",
    "        n=len(nums)\n",
    "        tempmax=0\n",
    "        index=0\n",
    "        while(index<=tempmax):\n",
    "            tempmax=max(tempmax,nums[index]+index)\n",
    "            if tempmax>=n-1:\n",
    "                return True\n",
    "            index+=1\n",
    "        return False\n",
    "\n",
    "Solution=Solution()\n",
    "print(Solution.canJump(nums = [3,2,1,0,4]))"
   ]
  }
 ],
 "metadata": {
  "kernelspec": {
   "display_name": "Python 3.8.9 64-bit",
   "language": "python",
   "name": "python3"
  },
  "language_info": {
   "codemirror_mode": {
    "name": "ipython",
    "version": 3
   },
   "file_extension": ".py",
   "mimetype": "text/x-python",
   "name": "python",
   "nbconvert_exporter": "python",
   "pygments_lexer": "ipython3",
   "version": "3.8.9"
  },
  "orig_nbformat": 4,
  "vscode": {
   "interpreter": {
    "hash": "31f2aee4e71d21fbe5cf8b01ff0e069b9275f58929596ceb00d14d90e3e16cd6"
   }
  }
 },
 "nbformat": 4,
 "nbformat_minor": 2
}
