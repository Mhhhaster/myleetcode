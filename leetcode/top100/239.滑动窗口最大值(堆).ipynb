{
 "cells": [
  {
   "cell_type": "markdown",
   "metadata": {},
   "source": [
    "给你一个整数数组 nums，有一个大小为 k 的滑动窗口从数组的最左侧移动到数组的最右侧。你只可以看到在滑动窗口内的 k 个数字。滑动窗口每次只向右移动一位。\n",
    "\n",
    "返回 滑动窗口中的最大值 。\n",
    "\n",
    " \n",
    "示例 1：\n",
    "\n",
    "输入：nums = [1,3,-1,-3,5,3,6,7], k = 3\n",
    "输出：[3,3,5,5,6,7]\n",
    "解释：\n",
    "滑动窗口的位置                最大值\n",
    "---------------               -----\n",
    "[1  3  -1] -3  5  3  6  7       3\n",
    " 1 [3  -1  -3] 5  3  6  7       3\n",
    " 1  3 [-1  -3  5] 3  6  7       5\n",
    " 1  3  -1 [-3  5  3] 6  7       5\n",
    " 1  3  -1  -3 [5  3  6] 7       6\n",
    " 1  3  -1  -3  5 [3  6  7]      7"
   ]
  },
  {
   "cell_type": "code",
   "execution_count": null,
   "metadata": {},
   "outputs": [],
   "source": [
    "'''\n",
    "(priority_q=)heapq.heapify(x:list)\n",
    "将list x 转换成堆，原地，线性时间内。\n",
    "\n",
    "heapq.heappush(heap, item)\n",
    "将 item 的值加入 heap 中，保持堆的不变性。\n",
    "\n",
    "min=heapq.heappop(heap)\n",
    "弹出并返回 heap 的最小的元素，保持堆的不变性。如果堆为空，抛出 IndexError 。使用 heap[0] ，可以只访问最小的元素而不弹出它。\n",
    "'''"
   ]
  },
  {
   "cell_type": "code",
   "execution_count": 2,
   "metadata": {},
   "outputs": [
    {
     "name": "stdout",
     "output_type": "stream",
     "text": [
      "[3, 3, 5, 5, 6, 7]\n"
     ]
    }
   ],
   "source": [
    "# 核心思想：当一个值从队列中被移出时，不用着急把他从优先队列除去，因为优先队列只在乎顶端元素，当且仅当被移除的元素时顶端元素时pop即可\n",
    "from typing import List\n",
    "import heapq\n",
    "class Solution:\n",
    "    def maxSlidingWindow(self, nums: List[int], k: int) -> List[int]:\n",
    "        n = len(nums)\n",
    "        # 注意 Python 默认的优先队列是小根堆\n",
    "        # 创建(value,index)tuple，并将value置为负，实现大根堆\n",
    "        q = [(-nums[i], i) for i in range(k)]\n",
    "        heapq.heapify(q)\n",
    "        res=[-q[0][0]]\n",
    "        for i in range (k,n):\n",
    "            heapq.heappush(q, (-nums[i], i))\n",
    "            while(q[0][1]<i-k+1):\n",
    "                heapq.heappop(q)\n",
    "            res.append(-q[0][0])\n",
    "        return res\n",
    "\n",
    "Solution=Solution()\n",
    "print(Solution.maxSlidingWindow([1,3,-1,-3,5,3,6,7],3))\n"
   ]
  }
 ],
 "metadata": {
  "kernelspec": {
   "display_name": "Python 3.9.7 ('base')",
   "language": "python",
   "name": "python3"
  },
  "language_info": {
   "codemirror_mode": {
    "name": "ipython",
    "version": 3
   },
   "file_extension": ".py",
   "mimetype": "text/x-python",
   "name": "python",
   "nbconvert_exporter": "python",
   "pygments_lexer": "ipython3",
   "version": "3.9.7"
  },
  "orig_nbformat": 4,
  "vscode": {
   "interpreter": {
    "hash": "ad2bdc8ecc057115af97d19610ffacc2b4e99fae6737bb82f5d7fb13d2f2c186"
   }
  }
 },
 "nbformat": 4,
 "nbformat_minor": 2
}
