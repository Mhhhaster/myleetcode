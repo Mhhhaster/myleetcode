{
 "cells": [
  {
   "cell_type": "markdown",
   "metadata": {},
   "source": [
    "给你一个字符串 s ，请你统计并返回这个字符串中 回文子串 的数目。\n",
    "\n",
    "回文字符串 是正着读和倒过来读一样的字符串。\n",
    "\n",
    "子字符串 是字符串中的由连续字符组成的一个序列。\n",
    "\n",
    "具有不同开始位置或结束位置的子串，即使是由相同的字符组成，也会被视作不同的子串。\n",
    "\n",
    " \n",
    "\n",
    "示例 1：\n",
    "\n",
    "输入：s = \"abc\"\n",
    "输出：3\n",
    "解释：三个回文子串: \"a\", \"b\", \"c\""
   ]
  },
  {
   "cell_type": "code",
   "execution_count": 14,
   "metadata": {},
   "outputs": [
    {
     "name": "stdout",
     "output_type": "stream",
     "text": [
      "3\n"
     ]
    }
   ],
   "source": [
    "class Solution(object):\n",
    "    def countSubstrings(self, s):\n",
    "        n=len(s)\n",
    "        res=0\n",
    "        dp=[[False]*n for _ in range(n)]\n",
    "        for i in range(n):\n",
    "            dp[i][i]=True\n",
    "        res+=n\n",
    "        for length in range(2,n+1):\n",
    "            for left in range(0,n-length+1):\n",
    "                right=left+length-1\n",
    "                if s[left]==s[right]:\n",
    "                    if length==2 or dp[left+1][right-1]:\n",
    "                        dp[left][right]=True    \n",
    "                        res+=1\n",
    "        return res\n",
    "\n",
    "Solution=Solution()\n",
    "print(Solution.countSubstrings(s = \"abc\"))\n"
   ]
  },
  {
   "cell_type": "code",
   "execution_count": null,
   "metadata": {},
   "outputs": [],
   "source": []
  }
 ],
 "metadata": {
  "kernelspec": {
   "display_name": "Python 3.8.9 64-bit",
   "language": "python",
   "name": "python3"
  },
  "language_info": {
   "codemirror_mode": {
    "name": "ipython",
    "version": 3
   },
   "file_extension": ".py",
   "mimetype": "text/x-python",
   "name": "python",
   "nbconvert_exporter": "python",
   "pygments_lexer": "ipython3",
   "version": "3.8.9"
  },
  "orig_nbformat": 4,
  "vscode": {
   "interpreter": {
    "hash": "31f2aee4e71d21fbe5cf8b01ff0e069b9275f58929596ceb00d14d90e3e16cd6"
   }
  }
 },
 "nbformat": 4,
 "nbformat_minor": 2
}
