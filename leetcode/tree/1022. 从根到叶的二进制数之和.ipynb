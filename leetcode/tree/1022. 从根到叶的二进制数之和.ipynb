{
 "cells": [
  {
   "cell_type": "markdown",
   "metadata": {},
   "source": [
    "给出一棵二叉树，其上每个结点的值都是 0 或 1 。每一条从根到叶的路径都代表一个从最高有效位开始的二进制数。\n",
    "\n",
    "例如，如果路径为 0 -> 1 -> 1 -> 0 -> 1，那么它表示二进制数 01101，也就是 13 。\n",
    "对树上的每一片叶子，我们都要找出从根到该叶子的路径所表示的数字。\n",
    "\n",
    "返回这些数字之和。题目数据保证答案是一个 32 位 整数。\n",
    "\n",
    "输入：root = [1,0,1,0,1,0,1]\n",
    "输出：22\n",
    "解释：(100) + (101) + (110) + (111) = 4 + 5 + 6 + 7 = 22"
   ]
  },
  {
   "cell_type": "markdown",
   "metadata": {},
   "source": [
    "全局变量表示方法self；内函数使用无需参数self；"
   ]
  },
  {
   "cell_type": "code",
   "execution_count": null,
   "metadata": {},
   "outputs": [],
   "source": [
    "#解法一：二进制转十进制；全局变量self.ans；python3类内函数的内函数\n",
    "# 始终将当前字符串传递，遍历到叶子直接将二进制转化为十进制，否则当前值加入字符串分别向左右传递\n",
    "class Solution:\n",
    "    def sumRootToLeaf(self, root: Optional[TreeNode]) -> int:\n",
    "\n",
    "        def DFS(cur_str, root):           #DFS函数不需要返回值，只需要做到对全局变量的修改\n",
    "            if not root.left and not root.right:\n",
    "                self.ans += int(cur_str + str(root.val), 2) # 将二进制转换为十进制\n",
    "            else:\n",
    "                if root.left:\n",
    "                    DFS(cur_str + str(root.val), root.left)\n",
    "                if root.right:\n",
    "                    DFS(cur_str + str(root.val), root.right)\n",
    "        \n",
    "        self.ans = 0\n",
    "        DFS('0b', root)    #本处的0b时二进制标识，去掉也行，但int()函数的base不能去除\n",
    "\n",
    "        return self.ans\n",
    "\n",
    "\n",
    "class Solution:\n",
    "    def sumRootToLeaf(self, root: Optional[TreeNode]) -> int:\n",
    "        self.ans = 0\n",
    "        self.DFS('', root)\n",
    "        return self.ans\n",
    "\n",
    "    def DFS(self,cur_str, root):\n",
    "        if not root.left and not root.right:\n",
    "            self.ans += int(cur_str + str(root.val), 2) # 将二进制转换为十进制\n",
    "        else:\n",
    "            if root.left:\n",
    "                self.DFS(cur_str + str(root.val), root.left)\n",
    "            if root.right:\n",
    "                self.DFS(cur_str + str(root.val), root.right)"
   ]
  },
  {
   "cell_type": "code",
   "execution_count": null,
   "metadata": {},
   "outputs": [],
   "source": [
    "#解法二，递归，叶子节点计算已累加的值，中间节点返回左右子节点相加的结果，dfs需要传递累加值\n",
    "class Solution:\n",
    "    def sumRootToLeaf(self, root: Optional[TreeNode]) -> int:\n",
    "        def dfs(cur_root,valsum): #valsm表示当前节点已累计的值\n",
    "            if not cur_root:  # 如果当前节点为空，则返回0\n",
    "                return 0\n",
    "            valsum=valsum*2+cur_root.val # 当前节点的值累加到valsum\n",
    "            if not cur_root.left and not cur_root.right: #如果为叶子节点，返回已累计的值加上当前节点的值\n",
    "                return valsum\n",
    "            return dfs(cur_root.left,valsum)+dfs(cur_root.right,valsum)\n",
    "        return dfs(root,0)"
   ]
  }
 ],
 "metadata": {
  "interpreter": {
   "hash": "ad2bdc8ecc057115af97d19610ffacc2b4e99fae6737bb82f5d7fb13d2f2c186"
  },
  "kernelspec": {
   "display_name": "Python 3.9.7 ('base')",
   "language": "python",
   "name": "python3"
  },
  "language_info": {
   "codemirror_mode": {
    "name": "ipython",
    "version": 3
   },
   "file_extension": ".py",
   "mimetype": "text/x-python",
   "name": "python",
   "nbconvert_exporter": "python",
   "pygments_lexer": "ipython3",
   "version": "3.9.7"
  },
  "orig_nbformat": 4
 },
 "nbformat": 4,
 "nbformat_minor": 2
}
