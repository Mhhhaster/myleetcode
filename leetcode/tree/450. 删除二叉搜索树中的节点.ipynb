{
 "cells": [
  {
   "cell_type": "code",
   "execution_count": null,
   "metadata": {},
   "outputs": [],
   "source": []
  },
  {
   "cell_type": "code",
   "execution_count": null,
   "metadata": {},
   "outputs": [],
   "source": [
    "class Solution:\n",
    "    def deleteNode(self, root: Optional[TreeNode], key: int) -> Optional[TreeNode]:\n",
    "        if root is None:\n",
    "            return None\n",
    "        if root.val > key:\n",
    "            root.left = self.deleteNode(root.left, key)\n",
    "        elif root.val < key:\n",
    "            root.right = self.deleteNode(root.right, key)\n",
    "        elif root.left is None or root.right is None:\n",
    "            root = root.left if root.left else root.right\n",
    "        else:\n",
    "            successor = root.right\n",
    "            while successor.left:\n",
    "                successor = successor.left\n",
    "            successor.right = self.deleteNode(root.right, successor.val)\n",
    "            successor.left = root.left\n",
    "            return successor\n",
    "        return root"
   ]
  },
  {
   "cell_type": "code",
   "execution_count": null,
   "metadata": {},
   "outputs": [],
   "source": [
    "class Solution:\n",
    "    def deleteNode(self, root,key) :\n",
    "        if root is None:\n",
    "            return None\n",
    "        if root.val > key:\n",
    "            root.left = self.deleteNode(root.left, key)\n",
    "        elif root.val < key:\n",
    "            root.right = self.deleteNode(root.right, key)\n",
    "        elif root.left is None and root.right:\n",
    "            root = root.right\n",
    "        elif root.right is None and root.left:\n",
    "            root = root.left \n",
    "        elif root.right is None and root.left is None:\n",
    "            return None\n",
    "        else:\n",
    "            #既有左子树又有右子树，选择右子树的最左端顶点替代\n",
    "            successor = root.right\n",
    "            while(successor.left):\n",
    "                successor=successor.left\n",
    "            root.val=successor.val\n",
    "            root.right=self.deleteNode(root.right, successor.val)\n",
    "        return root"
   ]
  }
 ],
 "metadata": {
  "language_info": {
   "name": "python"
  },
  "orig_nbformat": 4
 },
 "nbformat": 4,
 "nbformat_minor": 2
}
