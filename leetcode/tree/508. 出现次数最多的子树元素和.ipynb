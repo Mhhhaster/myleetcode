{
 "cells": [
  {
   "cell_type": "markdown",
   "metadata": {},
   "source": [
    "给你一个二叉树的根结点 root ，请返回出现次数最多的子树元素和。如果有多个元素出现的次数相同，返回所有出现次数最多的子树元素和（不限顺序）。\n",
    "\n",
    "一个结点的 「子树元素和」 定义为以该结点为根的二叉树上所有结点的元素之和（包括结点本身）。\n",
    "\n"
   ]
  },
  {
   "cell_type": "code",
   "execution_count": null,
   "metadata": {},
   "outputs": [],
   "source": [
    "# Definition for a binary tree node.\n",
    "# class TreeNode:\n",
    "#     def __init__(self, val=0, left=None, right=None):\n",
    "#         self.val = val\n",
    "#         self.left = left\n",
    "#         self.right = right\n",
    "class Solution:\n",
    "    def findFrequentTreeSum(self, root: TreeNode) -> List[int]:\n",
    "        dict=collections.defaultdict(int)\n",
    "        def dfs(root):\n",
    "            if root==None:\n",
    "                return 0\n",
    "            if root.left==None and root.right==None:\n",
    "                tempval=root.val\n",
    "            elif root.left==None:\n",
    "                tempval=root.val+dfs(root.right)\n",
    "            elif root.right==None:\n",
    "                tempval=root.val+dfs(root.left)\n",
    "            else:\n",
    "                tempval=root.val+dfs(root.left)+dfs(root.right)\n",
    "            dict[tempval]+=1\n",
    "            return tempval\n",
    "        dfs(root)\n",
    "        ans=[]\n",
    "        maxvalue=max(dict.values())\n",
    "        for key,value in dict.items():\n",
    "            if value==maxvalue:\n",
    "                ans.append(key)\n",
    "        return ans\n"
   ]
  }
 ],
 "metadata": {
  "language_info": {
   "name": "python"
  },
  "orig_nbformat": 4
 },
 "nbformat": 4,
 "nbformat_minor": 2
}
