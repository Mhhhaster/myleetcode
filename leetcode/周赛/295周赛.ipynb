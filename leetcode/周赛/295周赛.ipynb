{
 "cells": [
  {
   "cell_type": "markdown",
   "metadata": {},
   "source": [
    "输入：s = \"ilovecodingonleetcode\", target = \"code\"\n",
    "输出：2\n",
    "解释：\n",
    "对于 \"code\" 的第 1 个副本，选取下标为 4 、5 、6 和 7 的字符。\n",
    "对于 \"code\" 的第 2 个副本，选取下标为 17 、18 、19 和 20 的字符。\n",
    "形成的字符串分别是 \"ecod\" 和 \"code\" ，都可以重排为 \"code\" 。\n",
    "可以形成最多 2 个 \"code\" 的副本，所以返回 2 "
   ]
  },
  {
   "cell_type": "markdown",
   "metadata": {},
   "source": []
  },
  {
   "cell_type": "code",
   "execution_count": 4,
   "metadata": {},
   "outputs": [
    {
     "name": "stdout",
     "output_type": "stream",
     "text": [
      "1\n"
     ]
    }
   ],
   "source": [
    "import collections\n",
    "class Solution(object):\n",
    "    def rearrangeCharacters(self, s, target):\n",
    "        dict=collections.defaultdict(int)\n",
    "        for i in target:   #统计每个字母在target中出现的次数\n",
    "            dict[i]+=1\n",
    "        maxnum=float('inf')\n",
    "        for key,value in dict.items(): \n",
    "            maxnum=min(maxnum,int(s.count(key)/value))\n",
    "        return maxnum\n",
    "Solution=Solution()\n",
    "print(Solution.rearrangeCharacters(\"abbaccaddaeea\",\"aaaaa\"))\n"
   ]
  },
  {
   "cell_type": "markdown",
   "metadata": {},
   "source": [
    "输入：sentence = \"there are $1 $2 and 5$ candies in the shop\", discount = 50\n",
    "输出：\"there are $0.50 $1.00 and 5$ candies in the shop\"\n",
    "解释：\n",
    "表示价格的单词是 \"$1\" 和 \"$2\" 。 \n",
    "- \"$1\" 减免 50% 为 \"$0.50\" ，所以 \"$1\" 替换为 \"$0.50\" 。\n",
    "- \"$2\" 减免 50% 为 \"$1\" ，所以 \"$1\" 替换为 \"$1.00\" 。"
   ]
  },
  {
   "cell_type": "code",
   "execution_count": 6,
   "metadata": {},
   "outputs": [
    {
     "name": "stdout",
     "output_type": "stream",
     "text": [
      "there are $0.50 $1.00 and 5$ candies in the shop\n"
     ]
    }
   ],
   "source": [
    "class Solution(object):\n",
    "    def discountPrices(self, sentence, discount):\n",
    "        sentence=sentence.split(' ')   #将字符串转化为列表\n",
    "        for i in range(len(sentence)):\n",
    "            if self.Isprice(sentence[i]):  #如果该单词是表示价格，那么计算折扣后的表达\n",
    "                sentence[i]=self.getdiscount(sentence[i],discount)\n",
    "        return ' '.join(sentence)   # 组合字符串\n",
    "\n",
    "    def Isprice(self,string):\n",
    "        if string[0]=='$' and string[1:].isdigit():\n",
    "            return True\n",
    "        return False\n",
    "    \n",
    "    def getdiscount(self,string,discount):\n",
    "        rawprice=int(string[1:])\n",
    "        newprice=format(float(rawprice)*(100-discount)/100,'.2f')\n",
    "        return '$'+newprice\n",
    "\n",
    "Solution=Solution()\n",
    "print(Solution.discountPrices(\"there are $1 $2 and 5$ candies in the shop\",50))"
   ]
  },
  {
   "cell_type": "markdown",
   "metadata": {},
   "source": [
    "输入：nums = [5,3,4,4,7,3,6,11,8,5,11]\n",
    "输出：3\n",
    "解释：执行下述几个步骤：\n",
    "- 步骤 1 ：[5,3,4,4,7,3,6,11,8,5,11] 变为 [5,4,4,7,6,11,11]\n",
    "- 步骤 2 ：[5,4,4,7,6,11,11] 变为 [5,4,7,11,11]\n",
    "- 步骤 3 ：[5,4,7,11,11] 变为 [5,7,11,11]\n",
    "[5,7,11,11] 是一个非递减数组，因此，返回 3 "
   ]
  },
  {
   "cell_type": "code",
   "execution_count": null,
   "metadata": {},
   "outputs": [],
   "source": [
    "class Solution(object):\n",
    "    def totalSteps(self, nums):\n",
    "        \"\"\"\n",
    "        :type nums: List[int]\n",
    "        :rtype: int\n",
    "        \"\"\"\n",
    "        cycletimes=0\n",
    "        while True:\n",
    "            operatortimes=0\n",
    "            n=len(nums)\n",
    "            for i in range(n-1,0,-1): #从n-1开始，到1\n",
    "                if nums[i-1]>nums[i]:\n",
    "                    nums.pop(i)\n",
    "                    operatortimes+=1\n",
    "            if operatortimes==0:\n",
    "                break \n",
    "            cycletimes+=1\n",
    "        return cycletimes"
   ]
  },
  {
   "cell_type": "code",
   "execution_count": 3,
   "metadata": {},
   "outputs": [],
   "source": [
    "class Solution:\n",
    "    def totalSteps(self, nums):\n",
    "        ans, st = 0, []\n",
    "        for num in nums:                        #从左向右遍历，对每个元素：\n",
    "            max_t = 0                            #存储当前元素被删除的时刻\n",
    "            '''\n",
    "            如果栈顶元素更大，说明当前元素该被删除，被删除的时刻为1\n",
    "            如果栈顶元素更小，说明当前元素被删除的时间要晚于栈顶元素，重复上述步骤\n",
    "            '''\n",
    "            while st and st[-1][0] <= num:       #栈非空，且栈顶元素小于等于当前元素，则一直弹出\n",
    "                top=st.pop()                      #弹出栈顶元素\n",
    "                max_t = max(max_t, top[1])        #\n",
    "            max_t = max_t + 1 if st else 0      #如果该元素没有比它更大的，那么它永远不会被弹出\n",
    "            ans = max(ans, max_t)\n",
    "            st.append((num, max_t))             #将当前元素和当前元素的最大步数压入栈中\n",
    "        return ans\n",
    "\n",
    "Solution=Solution()\n",
    "print(Solution.totalSteps([5,3,4,4,7,3,6,11,8,5,11]))"
   ]
  }
 ],
 "metadata": {
  "interpreter": {
   "hash": "ad2bdc8ecc057115af97d19610ffacc2b4e99fae6737bb82f5d7fb13d2f2c186"
  },
  "kernelspec": {
   "display_name": "Python 3.9.7 ('base')",
   "language": "python",
   "name": "python3"
  },
  "language_info": {
   "codemirror_mode": {
    "name": "ipython",
    "version": 3
   },
   "file_extension": ".py",
   "mimetype": "text/x-python",
   "name": "python",
   "nbconvert_exporter": "python",
   "pygments_lexer": "ipython3",
   "version": "3.9.7"
  },
  "orig_nbformat": 4
 },
 "nbformat": 4,
 "nbformat_minor": 2
}
