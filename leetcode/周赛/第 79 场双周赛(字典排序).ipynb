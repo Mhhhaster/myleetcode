{
 "cells": [
  {
   "cell_type": "markdown",
   "metadata": {},
   "source": [
    "输入：num = \"030\"\n",
    "输出：false\n",
    "解释：\n",
    "num[0] = '0' 。数字 0 应该出现 0 次，但是在 num 中出现了一次。\n",
    "num[1] = '3' 。数字 1 应该出现 3 次，但是在 num 中出现了零次。\n",
    "num[2] = '0' 。数字 2 在 num 中出现了 0 次。\n",
    "下标 0 和 1 都违反了题目要求，所以返回 false 。"
   ]
  },
  {
   "cell_type": "markdown",
   "metadata": {},
   "source": [
    "2283. 判断一个数的数字计数是否等于数位的值"
   ]
  },
  {
   "cell_type": "code",
   "execution_count": 1,
   "metadata": {},
   "outputs": [
    {
     "name": "stdout",
     "output_type": "stream",
     "text": [
      "True\n"
     ]
    }
   ],
   "source": [
    "import collections\n",
    "class Solution(object):\n",
    "    def digitCount(self, num):\n",
    "        \"\"\"\n",
    "        :type num: str\n",
    "        :rtype: bool\n",
    "        \"\"\"\n",
    "        n=len(num)\n",
    "        dict=collections.defaultdict(int)\n",
    "        for i in range(n):  # 1210->  1:2 2:1 0:1 \n",
    "            dict[int(num[i])]+=1\n",
    "        for i in range(n):\n",
    "            if dict[i]!=int(num[i]):  #数字0出现的次数不等于0号位置的值\n",
    "                return False\n",
    "        return True\n",
    "Solution=Solution()\n",
    "print(Solution.digitCount(\"1210\"))"
   ]
  },
  {
   "cell_type": "markdown",
   "metadata": {},
   "source": [
    "输入：messages = [\"Hello userTwooo\",\"Hi userThree\",\"Wonderful day Alice\",\"Nice day userThree\"], senders = [\"Alice\",\"userTwo\",\"userThree\",\"Alice\"]\n",
    "输出：\"Alice\"\n",
    "解释：Alice 总共发出了 2 + 3 = 5 个单词。\n",
    "userTwo 发出了 2 个单词。\n",
    "userThree 发出了 3 个单词。\n",
    "由于 Alice 发出单词数最多，所以我们返回 \"Alice\" 。"
   ]
  },
  {
   "cell_type": "markdown",
   "metadata": {},
   "source": [
    "2284. 最多单词数的发件人"
   ]
  },
  {
   "cell_type": "code",
   "execution_count": 18,
   "metadata": {},
   "outputs": [
    {
     "name": "stdout",
     "output_type": "stream",
     "text": [
      "[('Charlie', 5), ('Bob', 5), ('Alice', 5), ('userThree', 3), ('userTwo', 2)]\n"
     ]
    }
   ],
   "source": [
    "class Solution(object):\n",
    "    def largestWordCount(self, messages, senders):\n",
    "        dict=collections.defaultdict(int)  #用于计数的字典\n",
    "        n=len(messages)\n",
    "        for i in range(n):\n",
    "            dict[senders[i]]+=self.getnum(messages[i])   #对每个发件人，累加它发送的单词数量\n",
    "        return sorted(dict.items(), key=lambda x:(x[1],x[0]), reverse=True)[0][0]\n",
    "        # reverse控制从大到小排序，匿名函数控制先排value再排key,返回列表\n",
    "        # 当然也可以不需要排序，直接遍历字典直接取最大值\n",
    "        \n",
    "    def getnum(self,sentence):  #用于统计一句话的单词数量\n",
    "        n=len(sentence)\n",
    "        words=0\n",
    "        for i in range(n):\n",
    "            if sentence[i]==' ':\n",
    "                words+=1\n",
    "        return words+1\n",
    "\n",
    "Solution=Solution()\n",
    "print(Solution.largestWordCount([\"How is leetcode for everyone\",\"Leetcode is useful for practice\",\"Hello userTwooo\",\"Hi userThree\",\"Wonderful day Alice\",\"Nice day userThree\"],[\"Bob\",\"Charlie\",\"Alice\",\"userTwo\",\"userThree\",\"Alice\"]))\n",
    "        \n",
    "\n"
   ]
  },
  {
   "cell_type": "markdown",
   "metadata": {},
   "source": [
    "输入：n = 5, roads = [[0,1],[1,2],[2,3],[0,2],[1,3],[2,4]]\n",
    "输出：43\n",
    "解释：上图展示了国家图和每个城市被安排的值 [2,4,5,3,1] 。\n",
    "- 道路 (0,1) 重要性为 2 + 4 = 6 。\n",
    "- 道路 (1,2) 重要性为 4 + 5 = 9 。\n",
    "- 道路 (2,3) 重要性为 5 + 3 = 8 。\n",
    "- 道路 (0,2) 重要性为 2 + 5 = 7 。\n",
    "- 道路 (1,3) 重要性为 4 + 3 = 7 。\n",
    "- 道路 (2,4) 重要性为 5 + 1 = 6 。\n",
    "所有道路重要性之和为 6 + 9 + 8 + 7 + 7 + 6 = 43 。\n",
    "可以证明，重要性之和不可能超过 43 。"
   ]
  },
  {
   "cell_type": "markdown",
   "metadata": {},
   "source": [
    "2285. 道路的最大总重要性"
   ]
  },
  {
   "cell_type": "code",
   "execution_count": 1,
   "metadata": {},
   "outputs": [
    {
     "name": "stdout",
     "output_type": "stream",
     "text": [
      "[0, 1, 2, 3, 4]\n",
      "None\n"
     ]
    }
   ],
   "source": [
    "import collections\n",
    "class Solution(object):\n",
    "    def maximumImportance(self, n, roads):\n",
    "        \"\"\"\n",
    "        :type n: int\n",
    "        :type roads: List[List[int]]\n",
    "        :rtype: int\n",
    "        边数越多的当然要给出最大值\n",
    "        \"\"\"\n",
    "        dict=collections.defaultdict(int)\n",
    "        edgenum=len(roads)\n",
    "        for i in range(edgenum):\n",
    "            dict[roads[i][0]]+=1\n",
    "            dict[roads[i][1]]+=1\n",
    "        print(sorted(dict))\n",
    "\n",
    "        rank=sorted(dict.items(), key=lambda x:x[1],reverse=True) #按照出现的次数从大到小排序\n",
    "        importance=0\n",
    "        for item in rank:    # rank[0][1]*n   rank[1][1]*n-1    rank[n-1][1] *1\n",
    "            importance+=item[1]*n\n",
    "            n-=1\n",
    "        return importance\n",
    "\n",
    "\n",
    "Solution=Solution()\n",
    "print(Solution.maximumImportance(5,[[0,1],[1,2],[2,3],[0,2],[1,3],[2,4]]))\n"
   ]
  },
  {
   "cell_type": "code",
   "execution_count": null,
   "metadata": {},
   "outputs": [],
   "source": [
    "# 使用map函数，作用：对列表中每个元素都执行函数f，返回一个列表，enumerate将一个可遍历的数据对象组合为一个索引序列，同时列出数据和数据下标\n",
    "class Solution:\n",
    "    def maximumImportance(self, n: int, roads: List[List[int]]) -> int:\n",
    "        edgeNum = [0] * n\n",
    "        for road in roads:\n",
    "            edgeNum[road[0]] += 1\n",
    "            edgeNum[road[1]] += 1\n",
    "        return sum(map(lambda p: (p[0] + 1) * p[1], enumerate(sorted(edgeNum))))"
   ]
  },
  {
   "cell_type": "markdown",
   "metadata": {},
   "source": [
    "线段树"
   ]
  }
 ],
 "metadata": {
  "interpreter": {
   "hash": "ad2bdc8ecc057115af97d19610ffacc2b4e99fae6737bb82f5d7fb13d2f2c186"
  },
  "kernelspec": {
   "display_name": "Python 3.9.7 ('base')",
   "language": "python",
   "name": "python3"
  },
  "language_info": {
   "codemirror_mode": {
    "name": "ipython",
    "version": 3
   },
   "file_extension": ".py",
   "mimetype": "text/x-python",
   "name": "python",
   "nbconvert_exporter": "python",
   "pygments_lexer": "ipython3",
   "version": "3.9.7"
  },
  "orig_nbformat": 4
 },
 "nbformat": 4,
 "nbformat_minor": 2
}
