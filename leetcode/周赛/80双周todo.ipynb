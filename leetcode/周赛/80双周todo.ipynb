{
 "cells": [
  {
   "cell_type": "markdown",
   "metadata": {},
   "source": [
    "T1:  字符串处理\n",
    "\n",
    "如果一个密码满足以下所有条件，我们称它是一个 强 密码：\n",
    "\n",
    "它有至少 8 个字符。\n",
    "至少包含 一个小写英文 字母。\n",
    "至少包含 一个大写英文 字母。\n",
    "至少包含 一个数字 。\n",
    "至少包含 一个特殊字符 。特殊字符为：\"!@#$%^&*()-+\" 中的一个。\n",
    "它 不 包含 2 个连续相同的字符（比方说 \"aab\" 不符合该条件，但是 \"aba\" 符合该条件）。\n",
    "给你一个字符串 password ，如果它是一个 强 密码，返回 true，否则返回 false 。\n",
    "\n",
    "示例 1：\n",
    "\n",
    "输入：password = \"IloveLe3tcode!\"\n",
    "输出：true\n",
    "解释：密码满足所有的要求，所以我们返回 true 。"
   ]
  },
  {
   "cell_type": "code",
   "execution_count": null,
   "metadata": {},
   "outputs": [],
   "source": [
    "class Solution(object):\n",
    "    def strongPasswordCheckerII(self, password):\n",
    "        n=len(password)\n",
    "        if n<8:\n",
    "            return False\n",
    "        islower,isupper,isnum,isspecial=False,False,False,False\n",
    "        for index,item in enumerate(password):\n",
    "            if 97<=ord(item)<=122: # if 'A' <= item <= 'Z' 作用一样\n",
    "                islower=True\n",
    "            if 65<=ord(item)<=90:\n",
    "                isupper=True\n",
    "            if 48<=ord(item)<=57:  #用isdigit()判断一样\n",
    "                isnum=True\n",
    "            if item in \"!@#$%^&*()-+\":\n",
    "                isspecial=True\n",
    "            if index>0:\n",
    "                if item==password[index-1]:\n",
    "                    return False\n",
    "        if islower and isupper and isnum and isspecial:\n",
    "            return True\n",
    "        return False"
   ]
  },
  {
   "cell_type": "markdown",
   "metadata": {},
   "source": [
    "6096. 咒语和药水的成功对数\n",
    " 给你两个正整数数组 spells 和 potions ，长度分别为 n 和 m ，其中 spells[i] 表示第 i 个咒语的能量强度，potions[j] 表示第 j 瓶药水的能量强度。\n",
    "\n",
    "同时给你一个整数 success 。一个咒语和药水的能量强度 相乘 如果 大于等于 success ，那么它们视为一对 成功 的组合。\n",
    "\n",
    "请你返回一个长度为 n 的整数数组 pairs，其中 pairs[i] 是能跟第 i 个咒语成功组合的 药水 数目。\n",
    "\n",
    "示例 1：\n",
    "\n",
    "输入：spells = [5,1,3], potions = [1,2,3,4,5], success = 7\n",
    "输出：[4,0,3]\n",
    "解释：\n",
    "- 第 0 个咒语：5 * [1,2,3,4,5] = [5,10,15,20,25] 。总共 4 个成功组合。\n",
    "- 第 1 个咒语：1 * [1,2,3,4,5] = [1,2,3,4,5] 。总共 0 个成功组合。\n",
    "- 第 2 个咒语：3 * [1,2,3,4,5] = [3,6,9,12,15] 。总共 3 个成功组合。\n",
    "所以返回 [4,0,3] 。"
   ]
  },
  {
   "cell_type": "code",
   "execution_count": null,
   "metadata": {},
   "outputs": [],
   "source": [
    "class Solution(object):\n",
    "    def successfulPairs(self, spells, potions, success):\n",
    "        n=len(spells)        \n",
    "        m=len(potions)\n",
    "        potions.sort()       \n",
    "        pairs=[0]*n\n",
    "        for index,item in enumerate(spells):\n",
    "            minvalue=(success+item-1)//item   # 获取能够成功的最小药水强度\n",
    "            notsuccess_num=bisect_left(potions,minvalue)    #二分查找，该强度的左边一定都不能组合成功\n",
    "            pairs[index]+=m-notsuccess_num      #计算有多少组合成功\n",
    "        return pairs"
   ]
  },
  {
   "cell_type": "markdown",
   "metadata": {},
   "source": [
    "给你两个字符串 s 和 sub 。同时给你一个二维字符数组 mappings ，其中 mappings[i] = [oldi, newi] 表示你可以替换 sub 中任意数目的 oldi 个字符，替换成 newi 。sub 中每个字符 不能 被替换超过一次。\n",
    "如果使用 mappings 替换 0 个或者若干个字符，可以将 sub 变成 s 的一个子字符串，请你返回 true，否则返回 false 。\n",
    "一个 子字符串 是字符串中连续非空的字符序列。\n",
    "\n",
    "示例 1：\n",
    "输入：s = \"fool3e7bar\", sub = \"leet\", mappings = [[\"e\",\"3\"],[\"t\",\"7\"],[\"t\",\"8\"]]\n",
    "输出：true\n",
    "解释：将 sub 中第一个 'e' 用 '3' 替换，将 't' 用 '7' 替换。\n",
    "现在 sub = \"l3e7\" ，它是 s 的子字符串，所以我们返回 true 。\n"
   ]
  },
  {
   "cell_type": "code",
   "execution_count": 6,
   "metadata": {},
   "outputs": [
    {
     "name": "stdout",
     "output_type": "stream",
     "text": [
      "False\n"
     ]
    }
   ],
   "source": [
    "import collections\n",
    "class Solution(object):\n",
    "    def matchReplacement(self, s, sub, mappings):\n",
    "        n=len(sub)\n",
    "        dict=collections.defaultdict(list)\n",
    "        for old,new in mappings:\n",
    "            dict[old].append(new)\n",
    "        ans={1:False}\n",
    "\n",
    "        def dfs(index,tempsub):  #index为当前尝试匹配的位置，默认index前都匹配成功\n",
    "            if index==n:\n",
    "                ans[1]=True\n",
    "                return\n",
    "            if tempsub+sub[index] in s:\n",
    "                dfs(index+1,tempsub+sub[index])\n",
    "            else:\n",
    "                getmap=dict[sub[index]]\n",
    "                for alpha in getmap:\n",
    "                    if tempsub+alpha in s:\n",
    "                        dfs(index+1,tempsub+alpha)\n",
    "        dfs(0,\"\")             \n",
    "        return ans[1]\n",
    "\n",
    "Solution=Solution()     \n",
    "print(Solution.matchReplacement(\"f178d2vdlwpycfmqgzd55fvfyamxx3owptoik8q52uy5ssteeboauki5x3zcl4gax53lurcpvs2jdju14a9115dk9q8adb7j31a07leiy4af57szw4xqwdnpcq8qj5nrkeb30lasl80kewhn987fvorke2rwg98bntfu2cxwkte509h8iweq85s3l47ayywf8dgesoy23e4qpjmrosmh0za6heoxd6fp8onv2dgumk6vkxy72cjwzkq139qecvnvihczb29uhsv0be7ftuxtzjetgfej0ijmnoej627z0vad5ghu22hnzhpyfasuy5l9kub2bmye2qxa4k4lnt15l7i916rilgbhbcifpjn3\",\n",
    "\"iu14at1j5dk9a8a3bzj3jb07leiycb0qzszw4xqr35omawaj5nzkjv3flb6l8fuerhnt8z0v1zkj2zwgt8vno0u2c1wuoj5f9hwireq8qs3ac7ay9wfw3sj61y23e4aojpz1\",\n",
    "[[\"r\",\"4\"],[\"z\",\"r\"],[\"5\",\"c\"],[\"t\",\"y\"],[\"f\",\"0\"],[\"3\",\"8\"],[\"7\",\"1\"],[\"j\",\"1\"],[\"s\",\"u\"],[\"o\",\"e\"],[\"f\",\"l\"],[\"7\",\"g\"],[\"5\",\"x\"],[\"o\",\"d\"],[\"k\",\"u\"],[\"x\",\"w\"],[\"z\",\"c\"],[\"8\",\"j\"],[\"s\",\"x\"],[\"j\",\"p\"],[\"9\",\"8\"],[\"h\",\"k\"],[\"o\",\"p\"],[\"w\",\"8\"],[\"i\",\"j\"],[\"c\",\"s\"],[\"r\",\"5\"],[\"1\",\"x\"],[\"i\",\"k\"],[\"u\",\"s\"],[\"q\",\"m\"],[\"j\",\"l\"],[\"k\",\"e\"],[\"i\",\"4\"],[\"a\",\"q\"],[\"1\",\"3\"],[\"d\",\"i\"],[\"w\",\"a\"],[\"0\",\"3\"],[\"4\",\"v\"],[\"p\",\"m\"],[\"s\",\"c\"],[\"c\",\"i\"],[\"e\",\"w\"],[\"m\",\"f\"],[\"0\",\"f\"],[\"6\",\"w\"],[\"i\",\"v\"],[\"z\",\"7\"],[\"8\",\"a\"],[\"o\",\"c\"],[\"a\",\"l\"],[\"s\",\"g\"],[\"r\",\"b\"],[\"o\",\"t\"],[\"n\",\"a\"],[\"v\",\"c\"],[\"5\",\"n\"],[\"i\",\"c\"],[\"p\",\"d\"],[\"9\",\"y\"],[\"u\",\"k\"],[\"j\",\"e\"],[\"3\",\"d\"],[\"q\",\"5\"],[\"m\",\"c\"],[\"1\",\"o\"],[\"r\",\"w\"],[\"u\",\"6\"],[\"b\",\"a\"],[\"t\",\"9\"],[\"6\",\"s\"],[\"v\",\"b\"],[\"1\",\"i\"],[\"c\",\"4\"]])) \n",
    "            "
   ]
  }
 ],
 "metadata": {
  "kernelspec": {
   "display_name": "Python 3.9.7 ('base')",
   "language": "python",
   "name": "python3"
  },
  "language_info": {
   "codemirror_mode": {
    "name": "ipython",
    "version": 3
   },
   "file_extension": ".py",
   "mimetype": "text/x-python",
   "name": "python",
   "nbconvert_exporter": "python",
   "pygments_lexer": "ipython3",
   "version": "3.9.7"
  },
  "orig_nbformat": 4,
  "vscode": {
   "interpreter": {
    "hash": "ad2bdc8ecc057115af97d19610ffacc2b4e99fae6737bb82f5d7fb13d2f2c186"
   }
  }
 },
 "nbformat": 4,
 "nbformat_minor": 2
}
